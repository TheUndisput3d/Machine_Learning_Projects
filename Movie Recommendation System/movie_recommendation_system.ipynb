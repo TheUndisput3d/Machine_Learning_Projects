{
  "nbformat": 4,
  "nbformat_minor": 0,
  "metadata": {
    "colab": {
      "provenance": []
    },
    "kernelspec": {
      "name": "python3",
      "display_name": "Python 3"
    },
    "language_info": {
      "name": "python"
    }
  },
  "cells": [
    {
      "cell_type": "code",
      "execution_count": null,
      "metadata": {
        "id": "OWfH-DmZ1r6h"
      },
      "outputs": [],
      "source": [
        "import numpy as np\n",
        "import pandas as pd\n",
        "import difflib\n",
        "from sklearn.feature_extraction.text import TfidfVectorizer\n",
        "from sklearn.metrics.pairwise import cosine_similarity"
      ]
    },
    {
      "cell_type": "markdown",
      "source": [
        "#Data Collection and Preprocessing\n"
      ],
      "metadata": {
        "id": "DgrlfJNz5I94"
      }
    },
    {
      "cell_type": "code",
      "source": [
        "movies_data = pd.read_csv(\"movies.csv\", encoding=\"utf-8\", skiprows=[2158])"
      ],
      "metadata": {
        "id": "T0HwFKeK5IOp"
      },
      "execution_count": null,
      "outputs": []
    },
    {
      "cell_type": "code",
      "source": [
        "movies_data.head()"
      ],
      "metadata": {
        "id": "djWnaDnH5RRU",
        "colab": {
          "base_uri": "https://localhost:8080/",
          "height": 793
        },
        "outputId": "0123665f-21d1-49e2-f1fa-5f86ccf8197a"
      },
      "execution_count": null,
      "outputs": [
        {
          "output_type": "execute_result",
          "data": {
            "text/plain": [
              "   index     budget                                    genres  \\\n",
              "0      0  237000000  Action Adventure Fantasy Science Fiction   \n",
              "1      1  300000000                  Adventure Fantasy Action   \n",
              "2      2  245000000                    Action Adventure Crime   \n",
              "3      3  250000000               Action Crime Drama Thriller   \n",
              "4      4  260000000          Action Adventure Science Fiction   \n",
              "\n",
              "                                       homepage      id  \\\n",
              "0                   http://www.avatarmovie.com/   19995   \n",
              "1  http://disney.go.com/disneypictures/pirates/     285   \n",
              "2   http://www.sonypictures.com/movies/spectre/  206647   \n",
              "3            http://www.thedarkknightrises.com/   49026   \n",
              "4          http://movies.disney.com/john-carter   49529   \n",
              "\n",
              "                                            keywords original_language  \\\n",
              "0  culture clash future space war space colony so...                en   \n",
              "1  ocean drug abuse exotic island east india trad...                en   \n",
              "2         spy based on novel secret agent sequel mi6                en   \n",
              "3  dc comics crime fighter terrorist secret ident...                en   \n",
              "4  based on novel mars medallion space travel pri...                en   \n",
              "\n",
              "                             original_title  \\\n",
              "0                                    Avatar   \n",
              "1  Pirates of the Caribbean: At World's End   \n",
              "2                                   Spectre   \n",
              "3                     The Dark Knight Rises   \n",
              "4                               John Carter   \n",
              "\n",
              "                                            overview  popularity  ... runtime  \\\n",
              "0  In the 22nd century, a paraplegic Marine is di...  150.437577  ...   162.0   \n",
              "1  Captain Barbossa, long believed to be dead, ha...  139.082615  ...   169.0   \n",
              "2  A cryptic message from Bond’s past sends him o...  107.376788  ...   148.0   \n",
              "3  Following the death of District Attorney Harve...  112.312950  ...   165.0   \n",
              "4  John Carter is a war-weary, former military ca...   43.926995  ...   132.0   \n",
              "\n",
              "                                    spoken_languages    status  \\\n",
              "0  [{\"iso_639_1\": \"en\", \"name\": \"English\"}, {\"iso...  Released   \n",
              "1           [{\"iso_639_1\": \"en\", \"name\": \"English\"}]  Released   \n",
              "2  [{\"iso_639_1\": \"fr\", \"name\": \"Fran\\u00e7ais\"},...  Released   \n",
              "3           [{\"iso_639_1\": \"en\", \"name\": \"English\"}]  Released   \n",
              "4           [{\"iso_639_1\": \"en\", \"name\": \"English\"}]  Released   \n",
              "\n",
              "                                          tagline  \\\n",
              "0                     Enter the World of Pandora.   \n",
              "1  At the end of the world, the adventure begins.   \n",
              "2                           A Plan No One Escapes   \n",
              "3                                 The Legend Ends   \n",
              "4            Lost in our world, found in another.   \n",
              "\n",
              "                                      title vote_average vote_count  \\\n",
              "0                                    Avatar          7.2      11800   \n",
              "1  Pirates of the Caribbean: At World's End          6.9       4500   \n",
              "2                                   Spectre          6.3       4466   \n",
              "3                     The Dark Knight Rises          7.6       9106   \n",
              "4                               John Carter          6.1       2124   \n",
              "\n",
              "                                                cast  \\\n",
              "0  Sam Worthington Zoe Saldana Sigourney Weaver S...   \n",
              "1  Johnny Depp Orlando Bloom Keira Knightley Stel...   \n",
              "2  Daniel Craig Christoph Waltz L\\u00e9a Seydoux ...   \n",
              "3  Christian Bale Michael Caine Gary Oldman Anne ...   \n",
              "4  Taylor Kitsch Lynn Collins Samantha Morton Wil...   \n",
              "\n",
              "                                                crew           director  \n",
              "0  [{'name': 'Stephen E. Rivkin', 'gender': 0, 'd...      James Cameron  \n",
              "1  [{'name': 'Dariusz Wolski', 'gender': 2, 'depa...     Gore Verbinski  \n",
              "2  [{'name': 'Thomas Newman', 'gender': 2, 'depar...         Sam Mendes  \n",
              "3  [{'name': 'Hans Zimmer', 'gender': 2, 'departm...  Christopher Nolan  \n",
              "4  [{'name': 'Andrew Stanton', 'gender': 2, 'depa...     Andrew Stanton  \n",
              "\n",
              "[5 rows x 24 columns]"
            ],
            "text/html": [
              "\n",
              "  <div id=\"df-f3699814-7af1-4e0f-9d2b-b33da99b3eae\" class=\"colab-df-container\">\n",
              "    <div>\n",
              "<style scoped>\n",
              "    .dataframe tbody tr th:only-of-type {\n",
              "        vertical-align: middle;\n",
              "    }\n",
              "\n",
              "    .dataframe tbody tr th {\n",
              "        vertical-align: top;\n",
              "    }\n",
              "\n",
              "    .dataframe thead th {\n",
              "        text-align: right;\n",
              "    }\n",
              "</style>\n",
              "<table border=\"1\" class=\"dataframe\">\n",
              "  <thead>\n",
              "    <tr style=\"text-align: right;\">\n",
              "      <th></th>\n",
              "      <th>index</th>\n",
              "      <th>budget</th>\n",
              "      <th>genres</th>\n",
              "      <th>homepage</th>\n",
              "      <th>id</th>\n",
              "      <th>keywords</th>\n",
              "      <th>original_language</th>\n",
              "      <th>original_title</th>\n",
              "      <th>overview</th>\n",
              "      <th>popularity</th>\n",
              "      <th>...</th>\n",
              "      <th>runtime</th>\n",
              "      <th>spoken_languages</th>\n",
              "      <th>status</th>\n",
              "      <th>tagline</th>\n",
              "      <th>title</th>\n",
              "      <th>vote_average</th>\n",
              "      <th>vote_count</th>\n",
              "      <th>cast</th>\n",
              "      <th>crew</th>\n",
              "      <th>director</th>\n",
              "    </tr>\n",
              "  </thead>\n",
              "  <tbody>\n",
              "    <tr>\n",
              "      <th>0</th>\n",
              "      <td>0</td>\n",
              "      <td>237000000</td>\n",
              "      <td>Action Adventure Fantasy Science Fiction</td>\n",
              "      <td>http://www.avatarmovie.com/</td>\n",
              "      <td>19995</td>\n",
              "      <td>culture clash future space war space colony so...</td>\n",
              "      <td>en</td>\n",
              "      <td>Avatar</td>\n",
              "      <td>In the 22nd century, a paraplegic Marine is di...</td>\n",
              "      <td>150.437577</td>\n",
              "      <td>...</td>\n",
              "      <td>162.0</td>\n",
              "      <td>[{\"iso_639_1\": \"en\", \"name\": \"English\"}, {\"iso...</td>\n",
              "      <td>Released</td>\n",
              "      <td>Enter the World of Pandora.</td>\n",
              "      <td>Avatar</td>\n",
              "      <td>7.2</td>\n",
              "      <td>11800</td>\n",
              "      <td>Sam Worthington Zoe Saldana Sigourney Weaver S...</td>\n",
              "      <td>[{'name': 'Stephen E. Rivkin', 'gender': 0, 'd...</td>\n",
              "      <td>James Cameron</td>\n",
              "    </tr>\n",
              "    <tr>\n",
              "      <th>1</th>\n",
              "      <td>1</td>\n",
              "      <td>300000000</td>\n",
              "      <td>Adventure Fantasy Action</td>\n",
              "      <td>http://disney.go.com/disneypictures/pirates/</td>\n",
              "      <td>285</td>\n",
              "      <td>ocean drug abuse exotic island east india trad...</td>\n",
              "      <td>en</td>\n",
              "      <td>Pirates of the Caribbean: At World's End</td>\n",
              "      <td>Captain Barbossa, long believed to be dead, ha...</td>\n",
              "      <td>139.082615</td>\n",
              "      <td>...</td>\n",
              "      <td>169.0</td>\n",
              "      <td>[{\"iso_639_1\": \"en\", \"name\": \"English\"}]</td>\n",
              "      <td>Released</td>\n",
              "      <td>At the end of the world, the adventure begins.</td>\n",
              "      <td>Pirates of the Caribbean: At World's End</td>\n",
              "      <td>6.9</td>\n",
              "      <td>4500</td>\n",
              "      <td>Johnny Depp Orlando Bloom Keira Knightley Stel...</td>\n",
              "      <td>[{'name': 'Dariusz Wolski', 'gender': 2, 'depa...</td>\n",
              "      <td>Gore Verbinski</td>\n",
              "    </tr>\n",
              "    <tr>\n",
              "      <th>2</th>\n",
              "      <td>2</td>\n",
              "      <td>245000000</td>\n",
              "      <td>Action Adventure Crime</td>\n",
              "      <td>http://www.sonypictures.com/movies/spectre/</td>\n",
              "      <td>206647</td>\n",
              "      <td>spy based on novel secret agent sequel mi6</td>\n",
              "      <td>en</td>\n",
              "      <td>Spectre</td>\n",
              "      <td>A cryptic message from Bond’s past sends him o...</td>\n",
              "      <td>107.376788</td>\n",
              "      <td>...</td>\n",
              "      <td>148.0</td>\n",
              "      <td>[{\"iso_639_1\": \"fr\", \"name\": \"Fran\\u00e7ais\"},...</td>\n",
              "      <td>Released</td>\n",
              "      <td>A Plan No One Escapes</td>\n",
              "      <td>Spectre</td>\n",
              "      <td>6.3</td>\n",
              "      <td>4466</td>\n",
              "      <td>Daniel Craig Christoph Waltz L\\u00e9a Seydoux ...</td>\n",
              "      <td>[{'name': 'Thomas Newman', 'gender': 2, 'depar...</td>\n",
              "      <td>Sam Mendes</td>\n",
              "    </tr>\n",
              "    <tr>\n",
              "      <th>3</th>\n",
              "      <td>3</td>\n",
              "      <td>250000000</td>\n",
              "      <td>Action Crime Drama Thriller</td>\n",
              "      <td>http://www.thedarkknightrises.com/</td>\n",
              "      <td>49026</td>\n",
              "      <td>dc comics crime fighter terrorist secret ident...</td>\n",
              "      <td>en</td>\n",
              "      <td>The Dark Knight Rises</td>\n",
              "      <td>Following the death of District Attorney Harve...</td>\n",
              "      <td>112.312950</td>\n",
              "      <td>...</td>\n",
              "      <td>165.0</td>\n",
              "      <td>[{\"iso_639_1\": \"en\", \"name\": \"English\"}]</td>\n",
              "      <td>Released</td>\n",
              "      <td>The Legend Ends</td>\n",
              "      <td>The Dark Knight Rises</td>\n",
              "      <td>7.6</td>\n",
              "      <td>9106</td>\n",
              "      <td>Christian Bale Michael Caine Gary Oldman Anne ...</td>\n",
              "      <td>[{'name': 'Hans Zimmer', 'gender': 2, 'departm...</td>\n",
              "      <td>Christopher Nolan</td>\n",
              "    </tr>\n",
              "    <tr>\n",
              "      <th>4</th>\n",
              "      <td>4</td>\n",
              "      <td>260000000</td>\n",
              "      <td>Action Adventure Science Fiction</td>\n",
              "      <td>http://movies.disney.com/john-carter</td>\n",
              "      <td>49529</td>\n",
              "      <td>based on novel mars medallion space travel pri...</td>\n",
              "      <td>en</td>\n",
              "      <td>John Carter</td>\n",
              "      <td>John Carter is a war-weary, former military ca...</td>\n",
              "      <td>43.926995</td>\n",
              "      <td>...</td>\n",
              "      <td>132.0</td>\n",
              "      <td>[{\"iso_639_1\": \"en\", \"name\": \"English\"}]</td>\n",
              "      <td>Released</td>\n",
              "      <td>Lost in our world, found in another.</td>\n",
              "      <td>John Carter</td>\n",
              "      <td>6.1</td>\n",
              "      <td>2124</td>\n",
              "      <td>Taylor Kitsch Lynn Collins Samantha Morton Wil...</td>\n",
              "      <td>[{'name': 'Andrew Stanton', 'gender': 2, 'depa...</td>\n",
              "      <td>Andrew Stanton</td>\n",
              "    </tr>\n",
              "  </tbody>\n",
              "</table>\n",
              "<p>5 rows × 24 columns</p>\n",
              "</div>\n",
              "    <div class=\"colab-df-buttons\">\n",
              "\n",
              "  <div class=\"colab-df-container\">\n",
              "    <button class=\"colab-df-convert\" onclick=\"convertToInteractive('df-f3699814-7af1-4e0f-9d2b-b33da99b3eae')\"\n",
              "            title=\"Convert this dataframe to an interactive table.\"\n",
              "            style=\"display:none;\">\n",
              "\n",
              "  <svg xmlns=\"http://www.w3.org/2000/svg\" height=\"24px\" viewBox=\"0 -960 960 960\">\n",
              "    <path d=\"M120-120v-720h720v720H120Zm60-500h600v-160H180v160Zm220 220h160v-160H400v160Zm0 220h160v-160H400v160ZM180-400h160v-160H180v160Zm440 0h160v-160H620v160ZM180-180h160v-160H180v160Zm440 0h160v-160H620v160Z\"/>\n",
              "  </svg>\n",
              "    </button>\n",
              "\n",
              "  <style>\n",
              "    .colab-df-container {\n",
              "      display:flex;\n",
              "      gap: 12px;\n",
              "    }\n",
              "\n",
              "    .colab-df-convert {\n",
              "      background-color: #E8F0FE;\n",
              "      border: none;\n",
              "      border-radius: 50%;\n",
              "      cursor: pointer;\n",
              "      display: none;\n",
              "      fill: #1967D2;\n",
              "      height: 32px;\n",
              "      padding: 0 0 0 0;\n",
              "      width: 32px;\n",
              "    }\n",
              "\n",
              "    .colab-df-convert:hover {\n",
              "      background-color: #E2EBFA;\n",
              "      box-shadow: 0px 1px 2px rgba(60, 64, 67, 0.3), 0px 1px 3px 1px rgba(60, 64, 67, 0.15);\n",
              "      fill: #174EA6;\n",
              "    }\n",
              "\n",
              "    .colab-df-buttons div {\n",
              "      margin-bottom: 4px;\n",
              "    }\n",
              "\n",
              "    [theme=dark] .colab-df-convert {\n",
              "      background-color: #3B4455;\n",
              "      fill: #D2E3FC;\n",
              "    }\n",
              "\n",
              "    [theme=dark] .colab-df-convert:hover {\n",
              "      background-color: #434B5C;\n",
              "      box-shadow: 0px 1px 3px 1px rgba(0, 0, 0, 0.15);\n",
              "      filter: drop-shadow(0px 1px 2px rgba(0, 0, 0, 0.3));\n",
              "      fill: #FFFFFF;\n",
              "    }\n",
              "  </style>\n",
              "\n",
              "    <script>\n",
              "      const buttonEl =\n",
              "        document.querySelector('#df-f3699814-7af1-4e0f-9d2b-b33da99b3eae button.colab-df-convert');\n",
              "      buttonEl.style.display =\n",
              "        google.colab.kernel.accessAllowed ? 'block' : 'none';\n",
              "\n",
              "      async function convertToInteractive(key) {\n",
              "        const element = document.querySelector('#df-f3699814-7af1-4e0f-9d2b-b33da99b3eae');\n",
              "        const dataTable =\n",
              "          await google.colab.kernel.invokeFunction('convertToInteractive',\n",
              "                                                    [key], {});\n",
              "        if (!dataTable) return;\n",
              "\n",
              "        const docLinkHtml = 'Like what you see? Visit the ' +\n",
              "          '<a target=\"_blank\" href=https://colab.research.google.com/notebooks/data_table.ipynb>data table notebook</a>'\n",
              "          + ' to learn more about interactive tables.';\n",
              "        element.innerHTML = '';\n",
              "        dataTable['output_type'] = 'display_data';\n",
              "        await google.colab.output.renderOutput(dataTable, element);\n",
              "        const docLink = document.createElement('div');\n",
              "        docLink.innerHTML = docLinkHtml;\n",
              "        element.appendChild(docLink);\n",
              "      }\n",
              "    </script>\n",
              "  </div>\n",
              "\n",
              "\n",
              "<div id=\"df-20a4ff6c-4a61-4c30-b83d-2071205b294c\">\n",
              "  <button class=\"colab-df-quickchart\" onclick=\"quickchart('df-20a4ff6c-4a61-4c30-b83d-2071205b294c')\"\n",
              "            title=\"Suggest charts\"\n",
              "            style=\"display:none;\">\n",
              "\n",
              "<svg xmlns=\"http://www.w3.org/2000/svg\" height=\"24px\"viewBox=\"0 0 24 24\"\n",
              "     width=\"24px\">\n",
              "    <g>\n",
              "        <path d=\"M19 3H5c-1.1 0-2 .9-2 2v14c0 1.1.9 2 2 2h14c1.1 0 2-.9 2-2V5c0-1.1-.9-2-2-2zM9 17H7v-7h2v7zm4 0h-2V7h2v10zm4 0h-2v-4h2v4z\"/>\n",
              "    </g>\n",
              "</svg>\n",
              "  </button>\n",
              "\n",
              "<style>\n",
              "  .colab-df-quickchart {\n",
              "      --bg-color: #E8F0FE;\n",
              "      --fill-color: #1967D2;\n",
              "      --hover-bg-color: #E2EBFA;\n",
              "      --hover-fill-color: #174EA6;\n",
              "      --disabled-fill-color: #AAA;\n",
              "      --disabled-bg-color: #DDD;\n",
              "  }\n",
              "\n",
              "  [theme=dark] .colab-df-quickchart {\n",
              "      --bg-color: #3B4455;\n",
              "      --fill-color: #D2E3FC;\n",
              "      --hover-bg-color: #434B5C;\n",
              "      --hover-fill-color: #FFFFFF;\n",
              "      --disabled-bg-color: #3B4455;\n",
              "      --disabled-fill-color: #666;\n",
              "  }\n",
              "\n",
              "  .colab-df-quickchart {\n",
              "    background-color: var(--bg-color);\n",
              "    border: none;\n",
              "    border-radius: 50%;\n",
              "    cursor: pointer;\n",
              "    display: none;\n",
              "    fill: var(--fill-color);\n",
              "    height: 32px;\n",
              "    padding: 0;\n",
              "    width: 32px;\n",
              "  }\n",
              "\n",
              "  .colab-df-quickchart:hover {\n",
              "    background-color: var(--hover-bg-color);\n",
              "    box-shadow: 0 1px 2px rgba(60, 64, 67, 0.3), 0 1px 3px 1px rgba(60, 64, 67, 0.15);\n",
              "    fill: var(--button-hover-fill-color);\n",
              "  }\n",
              "\n",
              "  .colab-df-quickchart-complete:disabled,\n",
              "  .colab-df-quickchart-complete:disabled:hover {\n",
              "    background-color: var(--disabled-bg-color);\n",
              "    fill: var(--disabled-fill-color);\n",
              "    box-shadow: none;\n",
              "  }\n",
              "\n",
              "  .colab-df-spinner {\n",
              "    border: 2px solid var(--fill-color);\n",
              "    border-color: transparent;\n",
              "    border-bottom-color: var(--fill-color);\n",
              "    animation:\n",
              "      spin 1s steps(1) infinite;\n",
              "  }\n",
              "\n",
              "  @keyframes spin {\n",
              "    0% {\n",
              "      border-color: transparent;\n",
              "      border-bottom-color: var(--fill-color);\n",
              "      border-left-color: var(--fill-color);\n",
              "    }\n",
              "    20% {\n",
              "      border-color: transparent;\n",
              "      border-left-color: var(--fill-color);\n",
              "      border-top-color: var(--fill-color);\n",
              "    }\n",
              "    30% {\n",
              "      border-color: transparent;\n",
              "      border-left-color: var(--fill-color);\n",
              "      border-top-color: var(--fill-color);\n",
              "      border-right-color: var(--fill-color);\n",
              "    }\n",
              "    40% {\n",
              "      border-color: transparent;\n",
              "      border-right-color: var(--fill-color);\n",
              "      border-top-color: var(--fill-color);\n",
              "    }\n",
              "    60% {\n",
              "      border-color: transparent;\n",
              "      border-right-color: var(--fill-color);\n",
              "    }\n",
              "    80% {\n",
              "      border-color: transparent;\n",
              "      border-right-color: var(--fill-color);\n",
              "      border-bottom-color: var(--fill-color);\n",
              "    }\n",
              "    90% {\n",
              "      border-color: transparent;\n",
              "      border-bottom-color: var(--fill-color);\n",
              "    }\n",
              "  }\n",
              "</style>\n",
              "\n",
              "  <script>\n",
              "    async function quickchart(key) {\n",
              "      const quickchartButtonEl =\n",
              "        document.querySelector('#' + key + ' button');\n",
              "      quickchartButtonEl.disabled = true;  // To prevent multiple clicks.\n",
              "      quickchartButtonEl.classList.add('colab-df-spinner');\n",
              "      try {\n",
              "        const charts = await google.colab.kernel.invokeFunction(\n",
              "            'suggestCharts', [key], {});\n",
              "      } catch (error) {\n",
              "        console.error('Error during call to suggestCharts:', error);\n",
              "      }\n",
              "      quickchartButtonEl.classList.remove('colab-df-spinner');\n",
              "      quickchartButtonEl.classList.add('colab-df-quickchart-complete');\n",
              "    }\n",
              "    (() => {\n",
              "      let quickchartButtonEl =\n",
              "        document.querySelector('#df-20a4ff6c-4a61-4c30-b83d-2071205b294c button');\n",
              "      quickchartButtonEl.style.display =\n",
              "        google.colab.kernel.accessAllowed ? 'block' : 'none';\n",
              "    })();\n",
              "  </script>\n",
              "</div>\n",
              "    </div>\n",
              "  </div>\n"
            ]
          },
          "metadata": {},
          "execution_count": 51
        }
      ]
    },
    {
      "cell_type": "code",
      "source": [
        "movies_data.shape"
      ],
      "metadata": {
        "id": "bbdGB8HK5T5Y",
        "colab": {
          "base_uri": "https://localhost:8080/"
        },
        "outputId": "a4830574-5686-437d-f294-73b17f3ece38"
      },
      "execution_count": null,
      "outputs": [
        {
          "output_type": "execute_result",
          "data": {
            "text/plain": [
              "(2157, 24)"
            ]
          },
          "metadata": {},
          "execution_count": 52
        }
      ]
    },
    {
      "cell_type": "code",
      "source": [
        "#selecting relevant features for recommendation:\n",
        "selected_features = ['genres', 'keywords', 'tagline', 'cast', 'director']\n",
        "print(selected_features)"
      ],
      "metadata": {
        "id": "pDONnb_t5VdV",
        "colab": {
          "base_uri": "https://localhost:8080/"
        },
        "outputId": "56565bac-5b24-469d-8b78-eaecb560a491"
      },
      "execution_count": null,
      "outputs": [
        {
          "output_type": "stream",
          "name": "stdout",
          "text": [
            "['genres', 'keywords', 'tagline', 'cast', 'director']\n"
          ]
        }
      ]
    },
    {
      "cell_type": "code",
      "source": [
        "# replacing the null valuess with null string\n",
        "for feature in selected_features:\n",
        "  movies_data[feature] = movies_data[feature].fillna(\" \")"
      ],
      "metadata": {
        "id": "9ZdqeGshlD0T"
      },
      "execution_count": null,
      "outputs": []
    },
    {
      "cell_type": "code",
      "source": [
        "# combining all the 5 selected features\n",
        "combined_features = movies_data['genres'] +' '+ movies_data['keywords'] +' '+ movies_data['tagline']+' '+ movies_data['cast'] +' '+movies_data['director']\n",
        "print(combined_features)"
      ],
      "metadata": {
        "id": "jhG1-8Sj5sGL",
        "colab": {
          "base_uri": "https://localhost:8080/"
        },
        "outputId": "60a9c5a6-1b04-4997-af9a-2bec131c5bca"
      },
      "execution_count": null,
      "outputs": [
        {
          "output_type": "stream",
          "name": "stdout",
          "text": [
            "0       Action Adventure Fantasy Science Fiction cultu...\n",
            "1       Adventure Fantasy Action ocean drug abuse exot...\n",
            "2       Action Adventure Crime spy based on novel secr...\n",
            "3       Action Crime Drama Thriller dc comics crime fi...\n",
            "4       Action Adventure Science Fiction based on nove...\n",
            "                              ...                        \n",
            "2152    Science Fiction Drama Romance deja vu regret j...\n",
            "2153    Comedy Romance brother sister relationship mar...\n",
            "2154    Action Crime Drama Thriller police los angeles...\n",
            "2155    Comedy Action Science Fiction end of the world...\n",
            "2156    Action Adventure Crime Family Mystery californ...\n",
            "Length: 2157, dtype: object\n"
          ]
        }
      ]
    },
    {
      "cell_type": "code",
      "source": [
        "#convertring the text data to feature vectors\n",
        "vectorizer = TfidfVectorizer()"
      ],
      "metadata": {
        "id": "HzWLMDCL6qvw"
      },
      "execution_count": null,
      "outputs": []
    },
    {
      "cell_type": "code",
      "source": [
        "\n",
        "feature_vectors = vectorizer.fit_transform(combined_features)"
      ],
      "metadata": {
        "id": "ZbtsCaDvqFHp"
      },
      "execution_count": null,
      "outputs": []
    },
    {
      "cell_type": "code",
      "source": [
        "print(feature_vectors)"
      ],
      "metadata": {
        "colab": {
          "base_uri": "https://localhost:8080/"
        },
        "id": "vhNyL9YnqMh5",
        "outputId": "1ad4dcf5-10e4-40f0-e9c8-09b3628baeaa"
      },
      "execution_count": null,
      "outputs": [
        {
          "output_type": "stream",
          "name": "stdout",
          "text": [
            "  (0, 1331)\t0.1705881362328062\n",
            "  (0, 4361)\t0.1176625647213352\n",
            "  (0, 7313)\t0.19429329222236097\n",
            "  (0, 5704)\t0.16161545915971692\n",
            "  (0, 4890)\t0.23546833258056069\n",
            "  (0, 8199)\t0.15788091861395873\n",
            "  (0, 9349)\t0.2019246479290861\n",
            "  (0, 7870)\t0.20902577113882656\n",
            "  (0, 7473)\t0.21176317659100588\n",
            "  (0, 9722)\t0.20649132955233054\n",
            "  (0, 9568)\t0.2216017052529256\n",
            "  (0, 7491)\t0.14819011938689014\n",
            "  (0, 6417)\t0.25917348857011546\n",
            "  (0, 6238)\t0.09253223122780092\n",
            "  (0, 9564)\t0.12296474374513817\n",
            "  (0, 8570)\t0.0696214175255609\n",
            "  (0, 2762)\t0.2417036042014706\n",
            "  (0, 7996)\t0.21176317659100588\n",
            "  (0, 1765)\t0.2417036042014706\n",
            "  (0, 9294)\t0.1265444069176788\n",
            "  (0, 8058)\t0.32323091831943385\n",
            "  (0, 3291)\t0.16507287670044485\n",
            "  (0, 1685)\t0.24933495990819574\n",
            "  (0, 2030)\t0.24933495990819574\n",
            "  (0, 3041)\t0.09862819792701716\n",
            "  :\t:\n",
            "  (2156, 4994)\t0.212973263548291\n",
            "  (2156, 7290)\t0.16828476636139988\n",
            "  (2156, 8738)\t0.18772858643294138\n",
            "  (2156, 7958)\t0.185081531624774\n",
            "  (2156, 2310)\t0.18032988699617855\n",
            "  (2156, 3460)\t0.1990273975865325\n",
            "  (2156, 1308)\t0.20099334622689244\n",
            "  (2156, 1865)\t0.20529829967438698\n",
            "  (2156, 6957)\t0.21924416563614543\n",
            "  (2156, 4698)\t0.18383067604975706\n",
            "  (2156, 5992)\t0.11761080223109081\n",
            "  (2156, 2506)\t0.17518678225723244\n",
            "  (2156, 916)\t0.18032988699617855\n",
            "  (2156, 5492)\t0.1863796002991843\n",
            "  (2156, 4504)\t0.1559389441262401\n",
            "  (2156, 8660)\t0.14772231964824534\n",
            "  (2156, 2723)\t0.17518678225723244\n",
            "  (2156, 2933)\t0.09262505786316955\n",
            "  (2156, 343)\t0.18032988699617855\n",
            "  (2156, 6193)\t0.13075984327004433\n",
            "  (2156, 6279)\t0.10157976831547534\n",
            "  (2156, 739)\t0.11436521982061096\n",
            "  (2156, 1983)\t0.09608564627494116\n",
            "  (2156, 152)\t0.1569552630802169\n",
            "  (2156, 106)\t0.06944043325437098\n"
          ]
        }
      ]
    },
    {
      "cell_type": "code",
      "source": [
        "#cosine similarity\n",
        "similarity = cosine_similarity(feature_vectors)\n",
        "print(similarity)"
      ],
      "metadata": {
        "colab": {
          "base_uri": "https://localhost:8080/"
        },
        "id": "7iAEqlxcqO7J",
        "outputId": "3e0276b6-20a6-4dc0-cad0-10cac4689ce5"
      },
      "execution_count": null,
      "outputs": [
        {
          "output_type": "stream",
          "name": "stdout",
          "text": [
            "[[1.         0.06504991 0.03454261 ... 0.00508988 0.048929   0.01704207]\n",
            " [0.06504991 1.         0.0286152  ... 0.00448778 0.07362159 0.02582479]\n",
            " [0.03454261 0.0286152  1.         ... 0.03740738 0.00465622 0.06998495]\n",
            " ...\n",
            " [0.00508988 0.00448778 0.03740738 ... 1.         0.00472284 0.01492004]\n",
            " [0.048929   0.07362159 0.00465622 ... 0.00472284 1.         0.00444883]\n",
            " [0.01704207 0.02582479 0.06998495 ... 0.01492004 0.00444883 1.        ]]\n"
          ]
        }
      ]
    },
    {
      "cell_type": "code",
      "source": [
        "print(similarity.shape)"
      ],
      "metadata": {
        "colab": {
          "base_uri": "https://localhost:8080/"
        },
        "id": "CZwcOId7qizy",
        "outputId": "899cd011-72bd-4857-9ef2-eaa596949233"
      },
      "execution_count": null,
      "outputs": [
        {
          "output_type": "stream",
          "name": "stdout",
          "text": [
            "(2157, 2157)\n"
          ]
        }
      ]
    },
    {
      "cell_type": "code",
      "source": [
        "# creating a list with all the movie names given in the dataset\n",
        "movie_name= input(\"Give the name of your favourite movie: \")"
      ],
      "metadata": {
        "colab": {
          "base_uri": "https://localhost:8080/"
        },
        "id": "mGkA8GNCqueY",
        "outputId": "b41c4c35-66a3-4890-88e8-75f8dfda4f8d"
      },
      "execution_count": null,
      "outputs": [
        {
          "name": "stdout",
          "output_type": "stream",
          "text": [
            "Give the name of your favourite movie: iron-man\n"
          ]
        }
      ]
    },
    {
      "cell_type": "code",
      "source": [
        "#list of all the movies\n",
        "list_all_titles = movies_data[\"title\"].tolist()"
      ],
      "metadata": {
        "id": "jx86wUGgrKLR"
      },
      "execution_count": null,
      "outputs": []
    },
    {
      "cell_type": "code",
      "source": [
        "# finding the close match for the movie name given by the user\n",
        "find_close_matches = difflib.get_close_matches(movie_name, list_all_titles )"
      ],
      "metadata": {
        "id": "gjmklRH5rY2K"
      },
      "execution_count": null,
      "outputs": []
    },
    {
      "cell_type": "code",
      "source": [
        "print((find_close_matches))"
      ],
      "metadata": {
        "colab": {
          "base_uri": "https://localhost:8080/"
        },
        "id": "TdEAfVTErmGB",
        "outputId": "85730ebd-c349-492b-a3df-266f1bfb0ef9"
      },
      "execution_count": null,
      "outputs": [
        {
          "output_type": "stream",
          "name": "stdout",
          "text": [
            "['Iron Man']\n"
          ]
        }
      ]
    },
    {
      "cell_type": "code",
      "source": [
        "close_match = find_close_matches[0]"
      ],
      "metadata": {
        "id": "D5Rnl8ExruCt"
      },
      "execution_count": null,
      "outputs": []
    },
    {
      "cell_type": "code",
      "source": [
        "print(close_match)"
      ],
      "metadata": {
        "colab": {
          "base_uri": "https://localhost:8080/"
        },
        "id": "acLpueTdrxKR",
        "outputId": "2a6604a5-5d1a-4bf7-d6ff-a84e676189fa"
      },
      "execution_count": null,
      "outputs": [
        {
          "output_type": "stream",
          "name": "stdout",
          "text": [
            "Iron Man\n"
          ]
        }
      ]
    },
    {
      "cell_type": "code",
      "source": [
        "# finding the index of the movie with title\n",
        "index_of_the_movie = movies_data[movies_data.title == close_match]['index'].values[0]"
      ],
      "metadata": {
        "id": "6pv1MZVZsFtd"
      },
      "execution_count": null,
      "outputs": []
    },
    {
      "cell_type": "code",
      "source": [
        "print(index_of_the_movie)"
      ],
      "metadata": {
        "colab": {
          "base_uri": "https://localhost:8080/"
        },
        "id": "jVn5FGj3tCcU",
        "outputId": "60b3c30f-43f0-457b-d721-e56b523d00a9"
      },
      "execution_count": null,
      "outputs": [
        {
          "output_type": "stream",
          "name": "stdout",
          "text": [
            "68\n"
          ]
        }
      ]
    },
    {
      "cell_type": "code",
      "source": [
        "print(similarity[index_of_the_movie])"
      ],
      "metadata": {
        "colab": {
          "base_uri": "https://localhost:8080/"
        },
        "id": "GX-KFS1otcJR",
        "outputId": "818f3b9f-8708-4f1f-ee6f-d77814510217"
      },
      "execution_count": null,
      "outputs": [
        {
          "output_type": "stream",
          "name": "stdout",
          "text": [
            "[0.02853439 0.05132065 0.01076467 ... 0.00479474 0.02115448 0.01605388]\n"
          ]
        }
      ]
    },
    {
      "cell_type": "code",
      "source": [
        "# getting a list of similar movies from similarity matrix\n",
        "similarity_score = list(enumerate(similarity[index_of_the_movie]))\n",
        "print(similarity_score)"
      ],
      "metadata": {
        "colab": {
          "base_uri": "https://localhost:8080/"
        },
        "id": "nfq_14QstFqt",
        "outputId": "4faba111-602d-44d9-d31c-8d1eb941887e"
      },
      "execution_count": null,
      "outputs": [
        {
          "output_type": "stream",
          "name": "stdout",
          "text": [
            "[(0, 0.028534391229125957), (1, 0.05132065057479884), (2, 0.010764669852304782), (3, 0.005072543287007002), (4, 0.027186506537932205), (5, 0.010607803360213332), (6, 0.0799329184255604), (7, 0.22319988215604714), (8, 0.005978797182596573), (9, 0.06624654259905201), (10, 0.0665019138996635), (11, 0.008994600619948952), (12, 0.010607562388158454), (13, 0.009235551239977064), (14, 0.0853903762308281), (15, 0.005516649099676998), (16, 0.2141357126916174), (17, 0.009990394650295768), (18, 0.03881400141452835), (19, 0.08026555578544557), (20, 0.0674137608857277), (21, 0.008671255597093974), (22, 0.005300230488261847), (23, 0.00499194877039573), (24, 0.00913035222303476), (25, 0.0), (26, 0.20129720491438394), (27, 0.026159894702632292), (28, 0.05669136498911423), (29, 0.010643620842691751), (30, 0.06749798453473788), (31, 0.29900581015660854), (32, 0.02980038338293992), (33, 0.11471450976786662), (34, 0.0), (35, 0.03041721836284323), (36, 0.027682914674470583), (37, 0.006044830327682718), (38, 0.09484585661576721), (39, 0.08820432476224371), (40, 0.006105433631688793), (41, 0.057181454519029215), (42, 0.0), (43, 0.053264125101631685), (44, 0.004822713647912427), (45, 0.02057257065895101), (46, 0.12728508808628056), (47, 0.03216131683804405), (48, 0.010541623033019202), (49, 0.0), (50, 0.009921053388471428), (51, 0.023495033418834684), (52, 0.02612356222203612), (53, 0.017241018637348), (54, 0.049116602208380926), (55, 0.010565722431935981), (56, 0.032279878838931644), (57, 0.035886362072986074), (58, 0.005094371912763306), (59, 0.027226510500520665), (60, 0.014185819902903804), (61, 0.02847287939746211), (62, 0.010330087386071966), (63, 0.005367162965331223), (64, 0.1334698763200967), (65, 0.004584362508638384), (66, 0.00545001979420699), (67, 0.02501386212326917), (68, 1.0000000000000002), (69, 0.009744278762195871), (70, 0.02818330549598759), (71, 0.013398095772814315), (72, 0.06483688340530967), (73, 0.0), (74, 0.02287562131205752), (75, 0.00987022035691655), (76, 0.047347262493034364), (77, 0.0), (78, 0.08204173901757776), (79, 0.39004649109626666), (80, 0.006349621143536591), (81, 0.018888752408999954), (82, 0.024065692373236722), (83, 0.02972440065379834), (84, 0.00833403083021473), (85, 0.1888156269455851), (86, 0.004854506245804599), (87, 0.023571405968945608), (88, 0.009858081403763957), (89, 0.004899736870446571), (90, 0.019047152029474615), (91, 0.0704780641447449), (92, 0.01193604287048589), (93, 0.022284369210162143), (94, 0.1206232815378674), (95, 0.059112651745433065), (96, 0.027952774745412707), (97, 0.02286457314202708), (98, 0.04861341519038926), (99, 0.004284483734617361), (100, 0.0), (101, 0.1258345695455401), (102, 0.030542219125996806), (103, 0.034850937128289794), (104, 0.010390821172622671), (105, 0.0), (106, 0.006005254536618523), (107, 0.025407826034932746), (108, 0.028699702018441617), (109, 0.004122395927431765), (110, 0.04113241908218687), (111, 0.030711551264502986), (112, 0.010148932498245378), (113, 0.0059104126309016914), (114, 0.005231024820831458), (115, 0.004254858717365747), (116, 0.020392346099211738), (117, 0.005256152533857018), (118, 0.0), (119, 0.004766697614310726), (120, 0.0), (121, 0.009744468373743098), (122, 0.09304097486328322), (123, 0.02681946976994022), (124, 0.005163142690575727), (125, 0.026558969311997846), (126, 0.11770343106157138), (127, 0.030144389386539808), (128, 0.03136715621705795), (129, 0.06926328943179531), (130, 0.005099411842824574), (131, 0.12409300211411087), (132, 0.005423851027776937), (133, 0.0), (134, 0.009562420833829667), (135, 0.0), (136, 0.04090964360798216), (137, 0.0), (138, 0.12201689285407895), (139, 0.009415808084654698), (140, 0.0045973871770919), (141, 0.005535430085774018), (142, 0.00622486465638758), (143, 0.0059500170959109555), (144, 0.005700028456192444), (145, 0.004770653284509561), (146, 0.03225134366955774), (147, 0.009308966325812455), (148, 0.004435821169191467), (149, 0.02770470969223777), (150, 0.027661097756542387), (151, 0.02326202756876263), (152, 0.009795949534297303), (153, 0.009539351297534204), (154, 0.0), (155, 0.0), (156, 0.003684958172426311), (157, 0.010748359751470284), (158, 0.030622103710642855), (159, 0.0041359887994820675), (160, 0.010379162527125917), (161, 0.0), (162, 0.005499718905404002), (163, 0.044211515715452746), (164, 0.015238218222805544), (165, 0.025151396763448592), (166, 0.061515667211093174), (167, 0.016313917674767177), (168, 0.02770856675003581), (169, 0.12099945131897298), (170, 0.019652827303496972), (171, 0.005337818016479915), (172, 0.01875436263809679), (173, 0.0), (174, 0.1274770097112272), (175, 0.005441277738248266), (176, 0.005153266662548292), (177, 0.0), (178, 0.04046667607786885), (179, 0.005888036606679209), (180, 0.004773051326511319), (181, 0.0059959819871481254), (182, 0.17519864289671372), (183, 0.029881794293734058), (184, 0.02073903047628159), (185, 0.06769005007851596), (186, 0.008927153860802131), (187, 0.015224919960320514), (188, 0.004649812223055833), (189, 0.006300334890539856), (190, 0.010800789473917894), (191, 0.005583880306524463), (192, 0.0), (193, 0.029752069261511603), (194, 0.0), (195, 0.005444922341942588), (196, 0.024109968250376743), (197, 0.0058611297624987044), (198, 0.08137148229319288), (199, 0.04705051752138629), (200, 0.025156142101944425), (201, 0.031247533325029046), (202, 0.005565618158831504), (203, 0.13043365087797834), (204, 0.004481122991526427), (205, 0.08750717730227693), (206, 0.009738471793921564), (207, 0.04333297449480572), (208, 0.009869670803414967), (209, 0.004538877751569247), (210, 0.004363467413632334), (211, 0.02894500958990005), (212, 0.027202845440900084), (213, 0.01120923725668745), (214, 0.0), (215, 0.010829684757999102), (216, 0.009423338811355871), (217, 0.0042484715067102365), (218, 0.0052300062306788846), (219, 0.026691066165956727), (220, 0.021692414272933898), (221, 0.006074401225339477), (222, 0.023599561193792175), (223, 0.020854301964940314), (224, 0.02168932892705713), (225, 0.025230436615042318), (226, 0.0), (227, 0.004413782951098781), (228, 0.026813401014765384), (229, 0.02888926629468061), (230, 0.022850960306936882), (231, 0.0), (232, 0.07845979545254914), (233, 0.0233959185446128), (234, 0.005735328366033), (235, 0.00524424904479467), (236, 0.004433703464475184), (237, 0.009658495531176734), (238, 0.061133117134345195), (239, 0.016735533946559935), (240, 0.010200689626419259), (241, 0.03510870980817231), (242, 0.08985139643053211), (243, 0.009879757198621499), (244, 0.0037833602390613323), (245, 0.008735899356190197), (246, 0.004197161702573826), (247, 0.0), (248, 0.004749866161773026), (249, 0.037948261707618725), (250, 0.0), (251, 0.0), (252, 0.004529955021930784), (253, 0.0037266175741359282), (254, 0.030058191813380843), (255, 0.0), (256, 0.037244069447467346), (257, 0.02285998040998706), (258, 0.0), (259, 0.009070077362056103), (260, 0.028376920299773147), (261, 0.005096796088093528), (262, 0.05046788768119839), (263, 0.02289247951701356), (264, 0.022230221325321983), (265, 0.0), (266, 0.023136684144123003), (267, 0.008465337064160822), (268, 0.0), (269, 0.0), (270, 0.053747878368104685), (271, 0.03179942449907946), (272, 0.0), (273, 0.004285379548140499), (274, 0.01098848370095025), (275, 0.021390995007835187), (276, 0.005874706784021875), (277, 0.010083568379382778), (278, 0.06182748733054309), (279, 0.03818222295946298), (280, 0.0), (281, 0.0), (282, 0.003929054602995974), (283, 0.0), (284, 0.013454274191124506), (285, 0.004121094084079948), (286, 0.017977952314498648), (287, 0.0), (288, 0.0), (289, 0.00544507824103385), (290, 0.01048954391867339), (291, 0.058139649046344534), (292, 0.01959577812325998), (293, 0.0), (294, 0.006317995242893549), (295, 0.004245818323916752), (296, 0.004607472923036118), (297, 0.004648899699698744), (298, 0.0), (299, 0.004613320422311676), (300, 0.023602891354927477), (301, 0.019025954505983156), (302, 0.0056861328966428225), (303, 0.004561171913187144), (304, 0.00966013276509717), (305, 0.024186294046804436), (306, 0.02440528149657471), (307, 0.09340379705375973), (308, 0.0038821109059331924), (309, 0.039106720015190756), (310, 0.038416866436788245), (311, 0.028003229932145282), (312, 0.00899097209804103), (313, 0.02320193384802446), (314, 0.0), (315, 0.00892808867715857), (316, 0.041680650177174594), (317, 0.0), (318, 0.07774200020170058), (319, 0.02438904749100329), (320, 0.004587393356116242), (321, 0.0), (322, 0.029763137721615655), (323, 0.0), (324, 0.043198718664277595), (325, 0.00853929780998493), (326, 0.0), (327, 0.0), (328, 0.03624564728442813), (329, 0.04974881911084372), (330, 0.05140125907033705), (331, 0.049721580841841716), (332, 0.06211778944360535), (333, 0.01616889891183557), (334, 0.02661341556556627), (335, 0.022800193796324864), (336, 0.005086468386218004), (337, 0.0030239118074777104), (338, 0.0), (339, 0.010919129873438464), (340, 0.012429972488849736), (341, 0.0054884666961079465), (342, 0.025969608641637415), (343, 0.0), (344, 0.003659586202478786), (345, 0.03134761594118408), (346, 0.011715555462616501), (347, 0.01061383778210123), (348, 0.005603728817292477), (349, 0.0054069028803529675), (350, 0.017410260295299653), (351, 0.0), (352, 0.005325935083340394), (353, 0.1115232548843458), (354, 0.0), (355, 0.00458535775343805), (356, 0.08663731967092504), (357, 0.0), (358, 0.022468473137130036), (359, 0.005488916608881129), (360, 0.01734651383204622), (361, 0.08419838429856244), (362, 0.02489581879203771), (363, 0.016710013639058458), (364, 0.0), (365, 0.02871599583222741), (366, 0.028049594068870337), (367, 0.0), (368, 0.004883332055781476), (369, 0.008409579498227803), (370, 0.03438259854736189), (371, 0.022138326980678396), (372, 0.016834780934077337), (373, 0.019465942717536565), (374, 0.005022719507722866), (375, 0.016479830765205587), (376, 0.021343457371581043), (377, 0.02645218267160359), (378, 0.0), (379, 0.008728069601851851), (380, 0.025799756683154505), (381, 0.0054573676204396375), (382, 0.06132715991211864), (383, 0.00949112465848283), (384, 0.018689435514311674), (385, 0.0), (386, 0.0233171256461941), (387, 0.004447304788120387), (388, 0.0), (389, 0.019102611300965983), (390, 0.0), (391, 0.0), (392, 0.0042561216822200165), (393, 0.029381771558653465), (394, 0.00451502943204348), (395, 0.0), (396, 0.07589273792361655), (397, 0.0), (398, 0.0), (399, 0.005011344706642919), (400, 0.024811325376878975), (401, 0.08046022121365337), (402, 0.03303056777340032), (403, 0.009296697886210691), (404, 0.0), (405, 0.0034774858691309484), (406, 0.0), (407, 0.0), (408, 0.004510541015543352), (409, 0.0), (410, 0.022534673051649308), (411, 0.00774474925913571), (412, 0.0487814663291184), (413, 0.018755832226605026), (414, 0.02895595401026972), (415, 0.02370646395324482), (416, 0.0), (417, 0.0), (418, 0.0), (419, 0.025511638701336388), (420, 0.05166749607712609), (421, 0.07361313906832218), (422, 0.01767597062742159), (423, 0.0), (424, 0.010043102636212994), (425, 0.036925696469282177), (426, 0.02265379951208414), (427, 0.0), (428, 0.004810725777154621), (429, 0.0), (430, 0.0), (431, 0.0), (432, 0.017626448174809174), (433, 0.004927539992867587), (434, 0.0), (435, 0.0), (436, 0.06574544342185264), (437, 0.0049907407362131855), (438, 0.0), (439, 0.0), (440, 0.034007220877110056), (441, 0.04341018299481772), (442, 0.019506860115037376), (443, 0.016187289481183982), (444, 0.0), (445, 0.0), (446, 0.03893114648402912), (447, 0.004966981391609751), (448, 0.0), (449, 0.020837040097586544), (450, 0.017479329411177073), (451, 0.03994815085545023), (452, 0.0), (453, 0.004645155920410257), (454, 0.0158307211794398), (455, 0.004370989322602169), (456, 0.025514559227185638), (457, 0.052335589514923814), (458, 0.005756667423891098), (459, 0.03111500637995379), (460, 0.06785406681794448), (461, 0.025547161337025316), (462, 0.023103489280436613), (463, 0.0), (464, 0.04528015216286862), (465, 0.0), (466, 0.03673930091605836), (467, 0.01147271272984873), (468, 0.004331913024810499), (469, 0.009233302272261462), (470, 0.02201988330346671), (471, 0.02005561514358681), (472, 0.009707783255557087), (473, 0.017678373703871875), (474, 0.0), (475, 0.023573970058009566), (476, 0.023392027003431144), (477, 0.0), (478, 0.009990484056182754), (479, 0.012299649812068497), (480, 0.023253756940421807), (481, 0.0), (482, 0.0), (483, 0.04138995008371639), (484, 0.0050270633272616804), (485, 0.005047233415264355), (486, 0.009885523768747469), (487, 0.027163559696668692), (488, 0.009949416948962696), (489, 0.0), (490, 0.027591324470523794), (491, 0.008977596456788282), (492, 0.0), (493, 0.02920448798801814), (494, 0.005093040736298611), (495, 0.028162316582409676), (496, 0.0), (497, 0.0), (498, 0.005173868226103965), (499, 0.0), (500, 0.004239407185943655), (501, 0.0765487128993115), (502, 0.013952888757080374), (503, 0.026207914354682803), (504, 0.018262683789401286), (505, 0.022199946304672324), (506, 0.0), (507, 0.05265441884242057), (508, 0.056011839428654106), (509, 0.0), (510, 0.02206851754705591), (511, 0.14983344511757446), (512, 0.004770569286680826), (513, 0.00827396637124796), (514, 0.004282331332291484), (515, 0.0), (516, 0.0), (517, 0.0), (518, 0.01158668842999951), (519, 0.0), (520, 0.0), (521, 0.0), (522, 0.0), (523, 0.01043710532968354), (524, 0.0), (525, 0.015846322999672674), (526, 0.0), (527, 0.0), (528, 0.003316254963652852), (529, 0.003990499260783565), (530, 0.019496211398114593), (531, 0.009362614954713213), (532, 0.0), (533, 0.0), (534, 0.00510983233385124), (535, 0.009229996892227678), (536, 0.039397327964374666), (537, 0.004350138231371778), (538, 0.0), (539, 0.03798754704922918), (540, 0.01275052939642374), (541, 0.018261037617175756), (542, 0.020344238721779984), (543, 0.0085690533419159), (544, 0.010145929930465283), (545, 0.03919071111438324), (546, 0.04421801956385357), (547, 0.004526755915868973), (548, 0.0), (549, 0.0161419533160901), (550, 0.0), (551, 0.005451984480960695), (552, 0.0), (553, 0.004517970086157875), (554, 0.0), (555, 0.0), (556, 0.0037616295672057336), (557, 0.0), (558, 0.0), (559, 0.0), (560, 0.017314691251048335), (561, 0.003939042613607045), (562, 0.02859780377551885), (563, 0.0), (564, 0.035004240026372806), (565, 0.006082957448336764), (566, 0.005088641177897458), (567, 0.0), (568, 0.009807239914865942), (569, 0.005925137013777196), (570, 0.033342908803606595), (571, 0.0040927788405128104), (572, 0.005518341016293436), (573, 0.004757061705219127), (574, 0.05384300347709498), (575, 0.01804299198065965), (576, 0.0), (577, 0.0261102729273402), (578, 0.017418285797885073), (579, 0.003310500918085504), (580, 0.0042357913424774535), (581, 0.025776395918527345), (582, 0.02110579523187406), (583, 0.010792788636371101), (584, 0.0), (585, 0.0), (586, 0.003842227002816402), (587, 0.028678292822907698), (588, 0.0), (589, 0.00441691011067644), (590, 0.004383235033210912), (591, 0.020388043380480416), (592, 0.005038385277069904), (593, 0.02851346274273361), (594, 0.010171660357081606), (595, 0.009263306377587485), (596, 0.01052854859991365), (597, 0.004455767490252999), (598, 0.0), (599, 0.0606633224071301), (600, 0.028449892546133657), (601, 0.024581617807406298), (602, 0.011363330427800054), (603, 0.0), (604, 0.00993196263389329), (605, 0.0), (606, 0.0), (607, 0.11385173731028674), (608, 0.0), (609, 0.023725959816161747), (610, 0.009265772319727156), (611, 0.004034341921113891), (612, 0.020626091572032938), (613, 0.017026907395457893), (614, 0.0), (615, 0.01611656294528059), (616, 0.0), (617, 0.005012791151955613), (618, 0.10012194180553571), (619, 0.0), (620, 0.0), (621, 0.004057901938040197), (622, 0.004571038733668378), (623, 0.0), (624, 0.0039882098937208), (625, 0.02349395663587965), (626, 0.019944154520778717), (627, 0.007567838498349471), (628, 0.0), (629, 0.003641369011365944), (630, 0.0), (631, 0.055115923456358025), (632, 0.018649758910715013), (633, 0.0), (634, 0.02197713957395007), (635, 0.0314798389598101), (636, 0.0), (637, 0.0), (638, 0.0), (639, 0.01737228003670108), (640, 0.009738556211638959), (641, 0.07098250585088503), (642, 0.0), (643, 0.010042023187142105), (644, 0.015935224211119103), (645, 0.010292329979130243), (646, 0.03476849820651448), (647, 0.0), (648, 0.0), (649, 0.0), (650, 0.0), (651, 0.0), (652, 0.012582625214329256), (653, 0.004383239209020061), (654, 0.06036692352359009), (655, 0.004732336054116324), (656, 0.0), (657, 0.023383957987651187), (658, 0.021566471024927796), (659, 0.004496092281544862), (660, 0.012865316467863708), (661, 0.11065857881944831), (662, 0.0), (663, 0.0), (664, 0.05013287522646707), (665, 0.023757076378123028), (666, 0.0), (667, 0.0), (668, 0.02950422482664168), (669, 0.014498823283947441), (670, 0.017628824526539234), (671, 0.005281076941128829), (672, 0.0), (673, 0.013543239418456691), (674, 0.06734087307923203), (675, 0.05295721889050784), (676, 0.009512765482653469), (677, 0.0042168743284525904), (678, 0.011668970680885512), (679, 0.0), (680, 0.056285969769113556), (681, 0.0), (682, 0.0), (683, 0.009006411882449692), (684, 0.0), (685, 0.027929756054233115), (686, 0.0), (687, 0.00970141396754192), (688, 0.013213206226202496), (689, 0.0), (690, 0.0), (691, 0.008994697906233095), (692, 0.0), (693, 0.0), (694, 0.004199753432416864), (695, 0.008970018807839104), (696, 0.0), (697, 0.0), (698, 0.006159379854208214), (699, 0.027816512132347794), (700, 0.030646477228993295), (701, 0.025300531458645067), (702, 0.004524596921221331), (703, 0.012336527556056819), (704, 0.0057432725449429135), (705, 0.062360344043707036), (706, 0.020526842389382474), (707, 0.005814787518391774), (708, 0.004046089410883971), (709, 0.0), (710, 0.0), (711, 0.020070785014196537), (712, 0.0), (713, 0.027864540804145604), (714, 0.0), (715, 0.011765156736778469), (716, 0.017284353274408963), (717, 0.0), (718, 0.01771202069396387), (719, 0.0), (720, 0.1033478827643609), (721, 0.005166218789476644), (722, 0.0), (723, 0.014921891954882728), (724, 0.004320707131469851), (725, 0.07176379817083671), (726, 0.0448129877493148), (727, 0.0), (728, 0.04681330334329144), (729, 0.013593618557754313), (730, 0.0048129541940043616), (731, 0.01080895464089621), (732, 0.03153226719323597), (733, 0.0345049194199591), (734, 0.017892836515425548), (735, 0.028197781156470758), (736, 0.0038893125229420614), (737, 0.004432991604666996), (738, 0.01505237334888347), (739, 0.004116579663355028), (740, 0.023654323516693686), (741, 0.004127252095423933), (742, 0.0), (743, 0.0), (744, 0.009795792403051864), (745, 0.004074847240409235), (746, 0.008836188389251475), (747, 0.004512880000671387), (748, 0.005979823428052774), (749, 0.0), (750, 0.005713192574084378), (751, 0.0), (752, 0.039421231551164705), (753, 0.004421798664968431), (754, 0.020249673502813127), (755, 0.028594818364494113), (756, 0.017233541691089115), (757, 0.014030212369836752), (758, 0.0), (759, 0.0), (760, 0.014657496988336844), (761, 0.038351497391546106), (762, 0.004545085299400111), (763, 0.07494774364780463), (764, 0.01432661174621851), (765, 0.0), (766, 0.0), (767, 0.010346298644111424), (768, 0.022628953242354935), (769, 0.007667718813173446), (770, 0.016961129613435353), (771, 0.017239103800328205), (772, 0.0), (773, 0.011467144559514635), (774, 0.021329474824036694), (775, 0.028512645251001133), (776, 0.0), (777, 0.022770384308550457), (778, 0.023710459421520415), (779, 0.0), (780, 0.022591201739601982), (781, 0.010482958020162936), (782, 0.046752327658196174), (783, 0.12395663870596615), (784, 0.010897954302764593), (785, 0.005831330497263908), (786, 0.011115720637884519), (787, 0.0037507388660700733), (788, 0.11687701532975672), (789, 0.05887425673824932), (790, 0.004308625233899103), (791, 0.006371227308269558), (792, 0.0), (793, 0.01858252300999917), (794, 0.008181480849441848), (795, 0.0), (796, 0.0), (797, 0.02816668123823114), (798, 0.0), (799, 0.025442722426552957), (800, 0.09601983271530828), (801, 0.0), (802, 0.0), (803, 0.0), (804, 0.004549540733882168), (805, 0.05689350881586456), (806, 0.0), (807, 0.004624310690413598), (808, 0.009960366475076608), (809, 0.011386358623974767), (810, 0.0), (811, 0.013207335560481908), (812, 0.005437461475807068), (813, 0.027485084021234563), (814, 0.01636329500822608), (815, 0.0), (816, 0.005977097284154313), (817, 0.0), (818, 0.004553433992131511), (819, 0.0), (820, 0.0), (821, 0.004255445924705281), (822, 0.0), (823, 0.004474574887378239), (824, 0.0), (825, 0.012366860188120535), (826, 0.0), (827, 0.0), (828, 0.00453694792849306), (829, 0.0), (830, 0.0038250253195278713), (831, 0.00857391916942531), (832, 0.00968262492348123), (833, 0.04936324604107149), (834, 0.010508992856627066), (835, 0.0), (836, 0.009343237444247431), (837, 0.0), (838, 0.023656355561268133), (839, 0.0), (840, 0.06635092627141428), (841, 0.0061069641529572505), (842, 0.006466747478740819), (843, 0.0), (844, 0.0043596313163709365), (845, 0.054814465750808034), (846, 0.0), (847, 0.0), (848, 0.006114935288223436), (849, 0.0), (850, 0.02229027154214501), (851, 0.010958885112803844), (852, 0.0), (853, 0.0), (854, 0.020475194999947183), (855, 0.03519826277007897), (856, 0.016626387546628544), (857, 0.0), (858, 0.005980939324263728), (859, 0.008729722887372608), (860, 0.0), (861, 0.0), (862, 0.01611572880116186), (863, 0.004576963048593563), (864, 0.03176912891059985), (865, 0.0), (866, 0.0049786859320195545), (867, 0.0), (868, 0.0), (869, 0.0), (870, 0.08370873071857063), (871, 0.0), (872, 0.0), (873, 0.04643048518037767), (874, 0.005173861346061228), (875, 0.0), (876, 0.0), (877, 0.0), (878, 0.030482432153491754), (879, 0.0), (880, 0.016674670332768704), (881, 0.0), (882, 0.08888718532199613), (883, 0.0), (884, 0.0), (885, 0.06925959595017699), (886, 0.0), (887, 0.0), (888, 0.009779193324881478), (889, 0.03860311312499898), (890, 0.0), (891, 0.0), (892, 0.01343440231036697), (893, 0.004228308721923528), (894, 0.0038852057020481636), (895, 0.015228975050753787), (896, 0.0), (897, 0.0), (898, 0.01989701230136908), (899, 0.005930153476257617), (900, 0.019803446209376657), (901, 0.0048486112833752), (902, 0.022473624257802496), (903, 0.0), (904, 0.022751736347182243), (905, 0.0), (906, 0.0), (907, 0.0), (908, 0.019868219419091792), (909, 0.0), (910, 0.0), (911, 0.049603274351347114), (912, 0.0), (913, 0.0), (914, 0.0039022050010034362), (915, 0.0), (916, 0.0), (917, 0.0), (918, 0.0), (919, 0.004621877594967516), (920, 0.026225843324013523), (921, 0.0), (922, 0.02752088307117244), (923, 0.0), (924, 0.0), (925, 0.0), (926, 0.0), (927, 0.0), (928, 0.0), (929, 0.04121855279992095), (930, 0.004050259236521403), (931, 0.02526332662076637), (932, 0.00325267507048535), (933, 0.009927984721983547), (934, 0.004814973500914658), (935, 0.005708783711399205), (936, 0.0), (937, 0.0040993983830901765), (938, 0.0), (939, 0.02267999819328889), (940, 0.09057107286109445), (941, 0.003848611401699165), (942, 0.005896232148158866), (943, 0.0), (944, 0.0), (945, 0.08527267341260265), (946, 0.0), (947, 0.0), (948, 0.0265828548795604), (949, 0.02297695260277493), (950, 0.008946226406912935), (951, 0.004262569538440617), (952, 0.004837897251289155), (953, 0.045423888646211635), (954, 0.09887364433194201), (955, 0.004063319208970939), (956, 0.048881321364841), (957, 0.0), (958, 0.0), (959, 0.0038697069856933257), (960, 0.07703329364039856), (961, 0.004977376404729085), (962, 0.0), (963, 0.003937746858161526), (964, 0.0), (965, 0.028804945830889904), (966, 0.0), (967, 0.02939541280606224), (968, 0.0), (969, 0.009423461414122064), (970, 0.0), (971, 0.0), (972, 0.02908748888093339), (973, 0.003898237162802272), (974, 0.023183351443196058), (975, 0.0), (976, 0.029456282097342468), (977, 0.04378395734110518), (978, 0.005510892127426539), (979, 0.004455082977118266), (980, 0.0), (981, 0.004439957340235938), (982, 0.004503702239225141), (983, 0.0), (984, 0.010859772646099337), (985, 0.011256199896324686), (986, 0.0), (987, 0.0), (988, 0.01677122476562421), (989, 0.009083567162362166), (990, 0.02265168756934349), (991, 0.0), (992, 0.004285432052288392), (993, 0.0045460188969919085), (994, 0.01848315318853304), (995, 0.0), (996, 0.022382191908872376), (997, 0.0), (998, 0.0), (999, 0.013892988691082568), (1000, 0.004272651977884516), (1001, 0.02542599902098324), (1002, 0.02448823576304088), (1003, 0.003738610100998893), (1004, 0.0), (1005, 0.031663256514544644), (1006, 0.009047868918011131), (1007, 0.0), (1008, 0.016328582773256408), (1009, 0.0), (1010, 0.0), (1011, 0.0), (1012, 0.010728339785599688), (1013, 0.0), (1014, 0.027044835699534985), (1015, 0.08225120128387037), (1016, 0.04843434023876453), (1017, 0.0), (1018, 0.003044613072826716), (1019, 0.0), (1020, 0.0048869114322428915), (1021, 0.0), (1022, 0.0), (1023, 0.0), (1024, 0.04189202009110666), (1025, 0.0), (1026, 0.0), (1027, 0.009793118857053171), (1028, 0.021110704957339927), (1029, 0.07970094552363173), (1030, 0.0), (1031, 0.0), (1032, 0.0), (1033, 0.0), (1034, 0.027077968435054653), (1035, 0.00452532713783121), (1036, 0.0), (1037, 0.0), (1038, 0.0), (1039, 0.038154810823127355), (1040, 0.0), (1041, 0.057553243201379015), (1042, 0.0), (1043, 0.004401013874577035), (1044, 0.02502642439046301), (1045, 0.0), (1046, 0.0), (1047, 0.0), (1048, 0.0), (1049, 0.004076583266576532), (1050, 0.013278706553597374), (1051, 0.0), (1052, 0.03400699231133198), (1053, 0.018883436413485236), (1054, 0.0), (1055, 0.04282593958232925), (1056, 0.003938023184747672), (1057, 0.012809088508389082), (1058, 0.024436514225511803), (1059, 0.02749145894564077), (1060, 0.0), (1061, 0.0), (1062, 0.005265418161958527), (1063, 0.0), (1064, 0.0035311276677655137), (1065, 0.0), (1066, 0.0), (1067, 0.01116221100983731), (1068, 0.02433367153446878), (1069, 0.0), (1070, 0.023036943882858797), (1071, 0.0), (1072, 0.005309620218272819), (1073, 0.010445496984966933), (1074, 0.005763061770123483), (1075, 0.0), (1076, 0.010268635311011211), (1077, 0.007997800194425114), (1078, 0.005761433215314305), (1079, 0.025350931328643113), (1080, 0.005489881970856934), (1081, 0.0), (1082, 0.008365109578859952), (1083, 0.028858334613666225), (1084, 0.009805611660648972), (1085, 0.015159151908769278), (1086, 0.043438210986091914), (1087, 0.0), (1088, 0.0), (1089, 0.010185696320742399), (1090, 0.013150825802573679), (1091, 0.0), (1092, 0.024058014059806954), (1093, 0.026925145919447717), (1094, 0.0), (1095, 0.0038350657861791863), (1096, 0.004182662229547147), (1097, 0.03688607176239775), (1098, 0.0), (1099, 0.006406948540751277), (1100, 0.009555048925973381), (1101, 0.0040397172441943765), (1102, 0.0), (1103, 0.009483651462528725), (1104, 0.0039777745821863745), (1105, 0.01275911369755856), (1106, 0.009156268986873793), (1107, 0.0), (1108, 0.0), (1109, 0.0036443306694777604), (1110, 0.02138245438613464), (1111, 0.015144181749122205), (1112, 0.0), (1113, 0.0), (1114, 0.004993541960177788), (1115, 0.0), (1116, 0.0), (1117, 0.0), (1118, 0.004649780352432416), (1119, 0.03175874298809179), (1120, 0.0), (1121, 0.0), (1122, 0.0), (1123, 0.0), (1124, 0.009218357046679233), (1125, 0.0), (1126, 0.0), (1127, 0.0), (1128, 0.06437169326687223), (1129, 0.0), (1130, 0.0), (1131, 0.022434661254252752), (1132, 0.0), (1133, 0.018536375512039807), (1134, 0.005306288694651531), (1135, 0.08297554698970103), (1136, 0.008612221979958997), (1137, 0.0041434660155956465), (1138, 0.0037425881225644684), (1139, 0.009859793530372217), (1140, 0.003788032827219503), (1141, 0.0), (1142, 0.0046066626075086286), (1143, 0.01048745782940744), (1144, 0.004618338254382289), (1145, 0.0), (1146, 0.004050974955299388), (1147, 0.0), (1148, 0.0), (1149, 0.0), (1150, 0.0), (1151, 0.0), (1152, 0.053241597338850866), (1153, 0.01655625025682301), (1154, 0.0), (1155, 0.03768744452054869), (1156, 0.0), (1157, 0.016741247069292992), (1158, 0.004404881109150361), (1159, 0.021607669117127973), (1160, 0.0), (1161, 0.0), (1162, 0.0), (1163, 0.0), (1164, 0.0), (1165, 0.06162026259406241), (1166, 0.0), (1167, 0.0), (1168, 0.0), (1169, 0.0), (1170, 0.08354556948331639), (1171, 0.026057944724061383), (1172, 0.010333528191454168), (1173, 0.014591128628304133), (1174, 0.0038948824905675784), (1175, 0.009301020770638688), (1176, 0.0), (1177, 0.03450802360786805), (1178, 0.004649428445896766), (1179, 0.0), (1180, 0.07379661157599672), (1181, 0.0), (1182, 0.0), (1183, 0.0054693684181986646), (1184, 0.022233772079427942), (1185, 0.0), (1186, 0.0), (1187, 0.0), (1188, 0.004184788317631761), (1189, 0.0), (1190, 0.0), (1191, 0.024833439560180033), (1192, 0.08581197296934588), (1193, 0.013569765424870397), (1194, 0.0), (1195, 0.004225365736670881), (1196, 0.0), (1197, 0.0), (1198, 0.02266595931423234), (1199, 0.008796174793827568), (1200, 0.054446095906235316), (1201, 0.025492742761195113), (1202, 0.008875400031498377), (1203, 0.0), (1204, 0.0), (1205, 0.0), (1206, 0.0), (1207, 0.0), (1208, 0.0), (1209, 0.03364946435941377), (1210, 0.10204412272739494), (1211, 0.0), (1212, 0.004602420681005895), (1213, 0.054272446885922775), (1214, 0.004740961378681778), (1215, 0.0), (1216, 0.0), (1217, 0.020665444314989914), (1218, 0.0), (1219, 0.0), (1220, 0.0), (1221, 0.0), (1222, 0.017020105598405236), (1223, 0.0), (1224, 0.0), (1225, 0.0), (1226, 0.0), (1227, 0.0), (1228, 0.0), (1229, 0.0), (1230, 0.06057817358164415), (1231, 0.0), (1232, 0.023641539542321115), (1233, 0.057536045510077696), (1234, 0.009917549151844708), (1235, 0.0), (1236, 0.0), (1237, 0.029745249381116248), (1238, 0.017999677610348527), (1239, 0.009850508288540782), (1240, 0.0), (1241, 0.0), (1242, 0.0), (1243, 0.011888187284577042), (1244, 0.020867989189367362), (1245, 0.004609527301240695), (1246, 0.0), (1247, 0.03768129667906168), (1248, 0.007920715666551456), (1249, 0.0423459676813726), (1250, 0.03222239113570905), (1251, 0.010730143994447758), (1252, 0.0), (1253, 0.005805128872792175), (1254, 0.004530210785182935), (1255, 0.0), (1256, 0.01080392181239424), (1257, 0.006000235372309442), (1258, 0.0), (1259, 0.027063553800407522), (1260, 0.0), (1261, 0.0), (1262, 0.0), (1263, 0.005289153280584947), (1264, 0.0), (1265, 0.0), (1266, 0.009784039089063928), (1267, 0.006194139119109035), (1268, 0.0), (1269, 0.023490167753760817), (1270, 0.020019268809147464), (1271, 0.021083421900160434), (1272, 0.04164183398786246), (1273, 0.010887860261845857), (1274, 0.08261632101395648), (1275, 0.017447874162459066), (1276, 0.0), (1277, 0.060847823019098926), (1278, 0.005071042124524752), (1279, 0.009831333431403712), (1280, 0.0), (1281, 0.003853571374783791), (1282, 0.08739806576632389), (1283, 0.01696335770901133), (1284, 0.00451508993871575), (1285, 0.02973907250236798), (1286, 0.017939614436392144), (1287, 0.005596316685674466), (1288, 0.04030906007534591), (1289, 0.004802607402787141), (1290, 0.009095909068816306), (1291, 0.04975819330761278), (1292, 0.0), (1293, 0.0), (1294, 0.027894883846708095), (1295, 0.0), (1296, 0.022433039308281163), (1297, 0.03623049023109602), (1298, 0.008392264432867079), (1299, 0.023235583270505233), (1300, 0.013178521613015136), (1301, 0.0), (1302, 0.02429175864841128), (1303, 0.027127715109269937), (1304, 0.003048836742314439), (1305, 0.013409466760162289), (1306, 0.0067355690391270725), (1307, 0.0), (1308, 0.0), (1309, 0.0), (1310, 0.003878167025471405), (1311, 0.07034090831198656), (1312, 0.0), (1313, 0.0), (1314, 0.0), (1315, 0.0), (1316, 0.0), (1317, 0.06882546878343351), (1318, 0.017420127717344733), (1319, 0.021971489592438227), (1320, 0.010404045064582177), (1321, 0.004450238713147436), (1322, 0.01143986207972649), (1323, 0.0), (1324, 0.035437776322528605), (1325, 0.0), (1326, 0.02227177572198381), (1327, 0.0), (1328, 0.021928864013262883), (1329, 0.0), (1330, 0.0), (1331, 0.011498902957562954), (1332, 0.028894278465303746), (1333, 0.0), (1334, 0.004183201643855525), (1335, 0.025603727614185494), (1336, 0.023118729297406694), (1337, 0.018704947231843558), (1338, 0.011856011645837678), (1339, 0.004332354484656595), (1340, 0.0), (1341, 0.014675298707818384), (1342, 0.00476526574687461), (1343, 0.008995294555853083), (1344, 0.022719643549521298), (1345, 0.023566451874566786), (1346, 0.0), (1347, 0.004145687254896636), (1348, 0.0), (1349, 0.0), (1350, 0.0), (1351, 0.0), (1352, 0.017381484091322022), (1353, 0.0), (1354, 0.025865330438685184), (1355, 0.0), (1356, 0.0), (1357, 0.0052169097529993595), (1358, 0.04264461233818362), (1359, 0.003998166399047657), (1360, 0.0), (1361, 0.009240909045589215), (1362, 0.0), (1363, 0.02190946164048002), (1364, 0.0), (1365, 0.06502860022180318), (1366, 0.0), (1367, 0.04152016339350611), (1368, 0.09038970059858242), (1369, 0.012479470322829067), (1370, 0.025786536837136886), (1371, 0.0), (1372, 0.0), (1373, 0.0), (1374, 0.0), (1375, 0.005503271695266088), (1376, 0.0), (1377, 0.023798395793991824), (1378, 0.0), (1379, 0.016876777915975236), (1380, 0.010064961849335946), (1381, 0.0), (1382, 0.00649319911626354), (1383, 0.02487918031722572), (1384, 0.0), (1385, 0.0), (1386, 0.0), (1387, 0.02599718152525056), (1388, 0.0), (1389, 0.0), (1390, 0.030299334878411875), (1391, 0.0), (1392, 0.04490315958815692), (1393, 0.0), (1394, 0.0), (1395, 0.022689989953630564), (1396, 0.04169380952882569), (1397, 0.0), (1398, 0.04450651642183928), (1399, 0.02327321638790547), (1400, 0.0), (1401, 0.0), (1402, 0.005725644900004534), (1403, 0.0), (1404, 0.007826469275251824), (1405, 0.0), (1406, 0.09965851374423224), (1407, 0.0), (1408, 0.0), (1409, 0.0), (1410, 0.0), (1411, 0.0), (1412, 0.017829412437246384), (1413, 0.0), (1414, 0.0), (1415, 0.016721526326957187), (1416, 0.0), (1417, 0.004863030751110871), (1418, 0.0), (1419, 0.017573372968949657), (1420, 0.0), (1421, 0.0), (1422, 0.01900433984788731), (1423, 0.0), (1424, 0.0), (1425, 0.02377548475302156), (1426, 0.005742068183474267), (1427, 0.0), (1428, 0.07118237479241699), (1429, 0.0), (1430, 0.0), (1431, 0.004020887228187529), (1432, 0.0043780703941614825), (1433, 0.004886341845945047), (1434, 0.028765632443908312), (1435, 0.0), (1436, 0.0170997436301935), (1437, 0.003914706375507348), (1438, 0.00899390399283119), (1439, 0.03600250290852927), (1440, 0.027771919776808793), (1441, 0.0), (1442, 0.0), (1443, 0.0041170720651673215), (1444, 0.0), (1445, 0.03022600531433045), (1446, 0.03910097963685166), (1447, 0.009581637652846762), (1448, 0.004688333730195055), (1449, 0.0), (1450, 0.0040717977598587855), (1451, 0.10870982119806225), (1452, 0.018862319662718195), (1453, 0.0039771864520807484), (1454, 0.0), (1455, 0.0), (1456, 0.035015668170392616), (1457, 0.0043035095664492335), (1458, 0.0), (1459, 0.07396347668156836), (1460, 0.005643058550413697), (1461, 0.0), (1462, 0.0), (1463, 0.0038654756789806978), (1464, 0.0), (1465, 0.021531084235987843), (1466, 0.0), (1467, 0.015886182014825195), (1468, 0.023293281396925998), (1469, 0.03520972952080091), (1470, 0.0044200110651430105), (1471, 0.0), (1472, 0.02044686932549973), (1473, 0.01739118651877429), (1474, 0.01221154826831346), (1475, 0.0), (1476, 0.0), (1477, 0.0), (1478, 0.0), (1479, 0.0050654945652761066), (1480, 0.044034614119308396), (1481, 0.01047548119738599), (1482, 0.056095103408586575), (1483, 0.0), (1484, 0.05424879085809256), (1485, 0.0), (1486, 0.004322703459193076), (1487, 0.0), (1488, 0.02027341417196991), (1489, 0.0), (1490, 0.028898628420230468), (1491, 0.021576327016357824), (1492, 0.0), (1493, 0.0), (1494, 0.06291318118413293), (1495, 0.05167253382500914), (1496, 0.027548544009479356), (1497, 0.0), (1498, 0.0), (1499, 0.0), (1500, 0.0043436171318158665), (1501, 0.0), (1502, 0.06183219036717015), (1503, 0.0053764652885362535), (1504, 0.013422861682465885), (1505, 0.004737845394315133), (1506, 0.019569987200091378), (1507, 0.025801207850105267), (1508, 0.0), (1509, 0.0061986799691607815), (1510, 0.004443289955385308), (1511, 0.0), (1512, 0.0), (1513, 0.003964247019005855), (1514, 0.004475668104305959), (1515, 0.004449339346873742), (1516, 0.0), (1517, 0.018081740772468918), (1518, 0.029071908217971586), (1519, 0.0), (1520, 0.0), (1521, 0.0), (1522, 0.0), (1523, 0.0), (1524, 0.006819915308855757), (1525, 0.01387701674530345), (1526, 0.0), (1527, 0.0), (1528, 0.00508600025031452), (1529, 0.013683725921439805), (1530, 0.015710144579039662), (1531, 0.022727859529120188), (1532, 0.0), (1533, 0.0), (1534, 0.021027681426847612), (1535, 0.019525175339774936), (1536, 0.0), (1537, 0.0), (1538, 0.0038869760553397795), (1539, 0.021153605421749194), (1540, 0.0), (1541, 0.0), (1542, 0.03390371859128849), (1543, 0.0), (1544, 0.0), (1545, 0.0), (1546, 0.010973850866397383), (1547, 0.023160257195716318), (1548, 0.0), (1549, 0.0), (1550, 0.00529800856482739), (1551, 0.01120202050786751), (1552, 0.0), (1553, 0.11215810964003123), (1554, 0.016587267358058058), (1555, 0.0), (1556, 0.0), (1557, 0.0), (1558, 0.010284404637223205), (1559, 0.0), (1560, 0.0), (1561, 0.0), (1562, 0.005229925632075692), (1563, 0.0), (1564, 0.005251992916414598), (1565, 0.0), (1566, 0.0), (1567, 0.0), (1568, 0.020672722064223933), (1569, 0.023762953740376583), (1570, 0.0), (1571, 0.0), (1572, 0.0), (1573, 0.08402923134972161), (1574, 0.0), (1575, 0.02034040853724987), (1576, 0.0), (1577, 0.014376682792449733), (1578, 0.0), (1579, 0.0), (1580, 0.006680007805649089), (1581, 0.0), (1582, 0.0), (1583, 0.027979215791777066), (1584, 0.0), (1585, 0.0), (1586, 0.010233579926883505), (1587, 0.005580252564185837), (1588, 0.021262458018455867), (1589, 0.023347679720985247), (1590, 0.0), (1591, 0.0), (1592, 0.004152657527202149), (1593, 0.0), (1594, 0.0), (1595, 0.02219526886361415), (1596, 0.02679149911406569), (1597, 0.00548292101832865), (1598, 0.0), (1599, 0.0), (1600, 0.016845066541223266), (1601, 0.02543147156485487), (1602, 0.00588615489189317), (1603, 0.0), (1604, 0.04751843500384609), (1605, 0.0), (1606, 0.017059642755178007), (1607, 0.016212926855639236), (1608, 0.018648870699257657), (1609, 0.0), (1610, 0.010129376650382507), (1611, 0.017127979327057525), (1612, 0.0), (1613, 0.0), (1614, 0.0), (1615, 0.009951027849881573), (1616, 0.003997088551891195), (1617, 0.028001202315590078), (1618, 0.0), (1619, 0.0), (1620, 0.0), (1621, 0.0), (1622, 0.0), (1623, 0.0), (1624, 0.0), (1625, 0.02107317508902932), (1626, 0.00377097637162165), (1627, 0.0), (1628, 0.010555629405334156), (1629, 0.0), (1630, 0.0), (1631, 0.0), (1632, 0.0), (1633, 0.023404029780783236), (1634, 0.0), (1635, 0.004141732697121786), (1636, 0.03781185923530022), (1637, 0.015133504323026924), (1638, 0.0), (1639, 0.020903148664138678), (1640, 0.0), (1641, 0.04926100059441886), (1642, 0.023070945749333698), (1643, 0.015982796324603102), (1644, 0.023936396744960516), (1645, 0.009187578685299949), (1646, 0.01835887423263679), (1647, 0.0), (1648, 0.0), (1649, 0.03982667032169384), (1650, 0.045242631922387616), (1651, 0.07118606033213942), (1652, 0.05979162313571459), (1653, 0.0040208559648875495), (1654, 0.06593703806618105), (1655, 0.0), (1656, 0.0), (1657, 0.012388075781734627), (1658, 0.00675004941728366), (1659, 0.0), (1660, 0.0), (1661, 0.0041459827773323256), (1662, 0.0), (1663, 0.010441347216362905), (1664, 0.06650402127545182), (1665, 0.0), (1666, 0.0), (1667, 0.012806078096661745), (1668, 0.0), (1669, 0.004092064897877409), (1670, 0.06310077576213413), (1671, 0.004014836744121203), (1672, 0.008908364297454233), (1673, 0.0), (1674, 0.0), (1675, 0.005071322837855807), (1676, 0.0), (1677, 0.0), (1678, 0.0), (1679, 0.0), (1680, 0.004612911294053395), (1681, 0.0), (1682, 0.005788311820100119), (1683, 0.025714657888688895), (1684, 0.013062676573489038), (1685, 0.0), (1686, 0.008936886720002996), (1687, 0.026638591675314283), (1688, 0.0), (1689, 0.0), (1690, 0.0), (1691, 0.0), (1692, 0.0), (1693, 0.0), (1694, 0.0), (1695, 0.006254379034553875), (1696, 0.04363501032803243), (1697, 0.014199360692737091), (1698, 0.0), (1699, 0.004508778081390011), (1700, 0.0), (1701, 0.023486538196282214), (1702, 0.004354580890495315), (1703, 0.05491829706908914), (1704, 0.0), (1705, 0.0), (1706, 0.0), (1707, 0.003893152733947638), (1708, 0.0), (1709, 0.01920396609759493), (1710, 0.07982058850979705), (1711, 0.0), (1712, 0.038931043881371225), (1713, 0.009648622623784096), (1714, 0.0), (1715, 0.04618712745656147), (1716, 0.0), (1717, 0.0), (1718, 0.0), (1719, 0.0), (1720, 0.05856425258714541), (1721, 0.013234602803201989), (1722, 0.0), (1723, 0.0), (1724, 0.0), (1725, 0.016414563941389723), (1726, 0.004474374859677957), (1727, 0.005017188018752858), (1728, 0.012566707944439587), (1729, 0.0), (1730, 0.0), (1731, 0.0), (1732, 0.0), (1733, 0.004786537226729207), (1734, 0.01740897153742933), (1735, 0.0183886944722682), (1736, 0.0), (1737, 0.0), (1738, 0.012274908478415359), (1739, 0.013324632444292914), (1740, 0.12172743714247967), (1741, 0.004475367570286951), (1742, 0.017432609678077297), (1743, 0.009057279169887529), (1744, 0.0), (1745, 0.0), (1746, 0.0), (1747, 0.004173307728727463), (1748, 0.0), (1749, 0.0), (1750, 0.02520837667523145), (1751, 0.0), (1752, 0.0), (1753, 0.06122435324038908), (1754, 0.0052191220722244995), (1755, 0.0), (1756, 0.0), (1757, 0.0222848286411636), (1758, 0.0), (1759, 0.0), (1760, 0.0), (1761, 0.004618435798981139), (1762, 0.01947504128560226), (1763, 0.0), (1764, 0.010998813181016377), (1765, 0.01923659509396616), (1766, 0.0), (1767, 0.0), (1768, 0.0), (1769, 0.021123348845662845), (1770, 0.0), (1771, 0.016306563314982224), (1772, 0.01727140999423667), (1773, 0.018381563702928597), (1774, 0.014404900909154276), (1775, 0.0), (1776, 0.0), (1777, 0.010997262154698666), (1778, 0.0), (1779, 0.0), (1780, 0.076479286326636), (1781, 0.0), (1782, 0.03286806535134414), (1783, 0.004325641471084849), (1784, 0.0), (1785, 0.013275748990290766), (1786, 0.017888919834714953), (1787, 0.0), (1788, 0.0), (1789, 0.0), (1790, 0.027846878472465558), (1791, 0.0), (1792, 0.004481249064384816), (1793, 0.0), (1794, 0.028979215829223866), (1795, 0.003617598373374404), (1796, 0.0), (1797, 0.005544073030613387), (1798, 0.012849541152913639), (1799, 0.0), (1800, 0.0), (1801, 0.0), (1802, 0.033270884296135915), (1803, 0.0), (1804, 0.0), (1805, 0.0), (1806, 0.0), (1807, 0.017091083683041318), (1808, 0.015433755411528124), (1809, 0.0), (1810, 0.0), (1811, 0.0), (1812, 0.0), (1813, 0.0), (1814, 0.0), (1815, 0.021137437158451698), (1816, 0.0), (1817, 0.0032283700769789076), (1818, 0.0), (1819, 0.027826381358170036), (1820, 0.0), (1821, 0.07534383048945953), (1822, 0.005267138972696014), (1823, 0.01337006233768788), (1824, 0.0), (1825, 0.009485746304679629), (1826, 0.02298230888549614), (1827, 0.02504222319011151), (1828, 0.012539695335818134), (1829, 0.0), (1830, 0.003962304493587184), (1831, 0.0), (1832, 0.0), (1833, 0.0), (1834, 0.0), (1835, 0.0), (1836, 0.009888784009948097), (1837, 0.003443904722747881), (1838, 0.0), (1839, 0.0), (1840, 0.0), (1841, 0.01670374844379003), (1842, 0.0), (1843, 0.0), (1844, 0.004523987237850428), (1845, 0.012871193218140136), (1846, 0.01694498172586432), (1847, 0.014132947789522152), (1848, 0.003987715617224089), (1849, 0.0), (1850, 0.018970473487840152), (1851, 0.00961039099786105), (1852, 0.0271644253308187), (1853, 0.004324944292832311), (1854, 0.009412670083598217), (1855, 0.0), (1856, 0.00470974786508472), (1857, 0.0), (1858, 0.009209042752842934), (1859, 0.0), (1860, 0.0047968277108104964), (1861, 0.0), (1862, 0.0), (1863, 0.023448675090980024), (1864, 0.08014195809018547), (1865, 0.03934538055485994), (1866, 0.0), (1867, 0.0), (1868, 0.0045888081734662516), (1869, 0.0), (1870, 0.0), (1871, 0.0), (1872, 0.02902069784809727), (1873, 0.0), (1874, 0.06025799463496407), (1875, 0.0), (1876, 0.0), (1877, 0.007945129989740316), (1878, 0.004561939879045502), (1879, 0.0), (1880, 0.027427477469051588), (1881, 0.0), (1882, 0.004997133344773035), (1883, 0.0), (1884, 0.0), (1885, 0.0), (1886, 0.0), (1887, 0.0), (1888, 0.0), (1889, 0.0), (1890, 0.0), (1891, 0.0), (1892, 0.008737114670672912), (1893, 0.0), (1894, 0.00471932797193352), (1895, 0.0), (1896, 0.023931992240072978), (1897, 0.004934874648730413), (1898, 0.0), (1899, 0.04260543922578552), (1900, 0.0), (1901, 0.0), (1902, 0.018605763687364912), (1903, 0.0), (1904, 0.0), (1905, 0.0), (1906, 0.0), (1907, 0.00866599551004673), (1908, 0.004068639680370686), (1909, 0.0), (1910, 0.004348472028677041), (1911, 0.0), (1912, 0.013679915905355606), (1913, 0.0), (1914, 0.017102830105158996), (1915, 0.012911280674883046), (1916, 0.0576223904506578), (1917, 0.0), (1918, 0.01683407131670849), (1919, 0.017094816639455165), (1920, 0.0048247220032169805), (1921, 0.0), (1922, 0.029538978623080504), (1923, 0.0), (1924, 0.0), (1925, 0.030284491624845845), (1926, 0.0), (1927, 0.0), (1928, 0.0), (1929, 0.0), (1930, 0.0039935484672367055), (1931, 0.01987139968822719), (1932, 0.0370106374855654), (1933, 0.0048674160986049994), (1934, 0.0), (1935, 0.0), (1936, 0.01902254247838939), (1937, 0.005544578982954211), (1938, 0.017770526535506044), (1939, 0.009797785440954084), (1940, 0.0), (1941, 0.0), (1942, 0.0), (1943, 0.012162495582940448), (1944, 0.0), (1945, 0.0), (1946, 0.0), (1947, 0.0), (1948, 0.0), (1949, 0.0), (1950, 0.003924720026991064), (1951, 0.0), (1952, 0.0), (1953, 0.010761450947726108), (1954, 0.004630854692893781), (1955, 0.0038444589194915803), (1956, 0.08661094208172884), (1957, 0.0), (1958, 0.0060325763331757565), (1959, 0.019367471089382932), (1960, 0.0), (1961, 0.0), (1962, 0.006077062906322448), (1963, 0.0), (1964, 0.0), (1965, 0.0), (1966, 0.0), (1967, 0.0452869699265463), (1968, 0.022950750837603617), (1969, 0.01413457124891946), (1970, 0.0), (1971, 0.0685160325056655), (1972, 0.0741572638797663), (1973, 0.009509992617329915), (1974, 0.023139736918284522), (1975, 0.013206536047465536), (1976, 0.0182511931846437), (1977, 0.004144375017623104), (1978, 0.054152619143614314), (1979, 0.0), (1980, 0.0), (1981, 0.0), (1982, 0.0), (1983, 0.0), (1984, 0.027403586239924324), (1985, 0.014464977278037694), (1986, 0.03189261326498115), (1987, 0.004958342124561062), (1988, 0.0), (1989, 0.0), (1990, 0.03499290097273143), (1991, 0.004558945471981566), (1992, 0.012349728730734122), (1993, 0.0), (1994, 0.0), (1995, 0.018875648802535613), (1996, 0.0), (1997, 0.01656989388563177), (1998, 0.0), (1999, 0.01825714520850426), (2000, 0.0), (2001, 0.006151917338734352), (2002, 0.023303827000251784), (2003, 0.005388676654721176), (2004, 0.010580976137482115), (2005, 0.0), (2006, 0.0), (2007, 0.033060078004230276), (2008, 0.0), (2009, 0.0), (2010, 0.03072776521927093), (2011, 0.0), (2012, 0.0), (2013, 0.01799124883124634), (2014, 0.0), (2015, 0.016639714715403982), (2016, 0.0032942605477335545), (2017, 0.0), (2018, 0.0), (2019, 0.0), (2020, 0.0), (2021, 0.0), (2022, 0.0), (2023, 0.0037754057573928215), (2024, 0.027438176440220244), (2025, 0.0), (2026, 0.022392846853653038), (2027, 0.0), (2028, 0.036431330909425186), (2029, 0.004997983078095476), (2030, 0.0), (2031, 0.0), (2032, 0.0), (2033, 0.0), (2034, 0.026369187753794987), (2035, 0.0), (2036, 0.015323263523096564), (2037, 0.014543060417935773), (2038, 0.0), (2039, 0.045727315943905444), (2040, 0.0), (2041, 0.0), (2042, 0.013918315716734997), (2043, 0.03694894046255901), (2044, 0.07656791500156625), (2045, 0.0), (2046, 0.04135247760063167), (2047, 0.0255224421330109), (2048, 0.0), (2049, 0.013335703082576466), (2050, 0.004213413944281047), (2051, 0.0), (2052, 0.0), (2053, 0.0), (2054, 0.003996168215375716), (2055, 0.00517268729610977), (2056, 0.0), (2057, 0.008273866790171888), (2058, 0.013048687606031652), (2059, 0.0), (2060, 0.036768682363867995), (2061, 0.0), (2062, 0.0), (2063, 0.0823256403393778), (2064, 0.00446867140448398), (2065, 0.0), (2066, 0.07656103808994928), (2067, 0.0), (2068, 0.0), (2069, 0.009320507145751864), (2070, 0.0), (2071, 0.014935785559220965), (2072, 0.0), (2073, 0.0), (2074, 0.0040705337207996226), (2075, 0.029111316947532037), (2076, 0.017054787432167675), (2077, 0.026858437301267947), (2078, 0.0), (2079, 0.0), (2080, 0.0), (2081, 0.0), (2082, 0.0), (2083, 0.0), (2084, 0.021233817446947183), (2085, 0.009215836610125545), (2086, 0.005200342896724933), (2087, 0.017305571671159717), (2088, 0.0), (2089, 0.05562686145311061), (2090, 0.0), (2091, 0.0), (2092, 0.0), (2093, 0.030015554499902047), (2094, 0.0), (2095, 0.0044931331272200946), (2096, 0.0), (2097, 0.004671280499199643), (2098, 0.0), (2099, 0.0), (2100, 0.0042356819993935296), (2101, 0.03591234591979526), (2102, 0.012918532358647167), (2103, 0.02594378738070506), (2104, 0.0), (2105, 0.0), (2106, 0.0), (2107, 0.043986220557908656), (2108, 0.0), (2109, 0.0), (2110, 0.017622932162270327), (2111, 0.03232261005851927), (2112, 0.024894178278136624), (2113, 0.0), (2114, 0.03541075953003806), (2115, 0.0), (2116, 0.005547652313120052), (2117, 0.0), (2118, 0.0), (2119, 0.0), (2120, 0.0), (2121, 0.00557448316288418), (2122, 0.011195374263738362), (2123, 0.0), (2124, 0.0), (2125, 0.0), (2126, 0.0), (2127, 0.055216203592106244), (2128, 0.027868376108887868), (2129, 0.03928474299742993), (2130, 0.0), (2131, 0.018748503049660664), (2132, 0.0), (2133, 0.0), (2134, 0.0), (2135, 0.0), (2136, 0.008987433495541269), (2137, 0.0), (2138, 0.06560880016725787), (2139, 0.0), (2140, 0.0040808521163628), (2141, 0.0), (2142, 0.0042001253395327585), (2143, 0.0), (2144, 0.0), (2145, 0.04347684778737638), (2146, 0.0), (2147, 0.0), (2148, 0.0), (2149, 0.0), (2150, 0.0), (2151, 0.04016745001335429), (2152, 0.015798877369032807), (2153, 0.0), (2154, 0.004794739342456247), (2155, 0.021154479442020792), (2156, 0.016053883050605476)]\n"
          ]
        }
      ]
    },
    {
      "cell_type": "code",
      "source": [
        " sorted_similarity_movies = sorted(similarity_score, key=lambda x:x[1], reverse=True)\n",
        " print(sorted_similarity_movies)"
      ],
      "metadata": {
        "id": "qNHvQLVNt7q0",
        "colab": {
          "base_uri": "https://localhost:8080/"
        },
        "outputId": "52b54e73-005a-4361-f84f-ac0cff86f4a7"
      },
      "execution_count": null,
      "outputs": [
        {
          "output_type": "stream",
          "name": "stdout",
          "text": [
            "[(68, 1.0000000000000002), (79, 0.39004649109626666), (31, 0.29900581015660854), (7, 0.22319988215604714), (16, 0.2141357126916174), (26, 0.20129720491438394), (85, 0.1888156269455851), (182, 0.17519864289671372), (511, 0.14983344511757446), (64, 0.1334698763200967), (203, 0.13043365087797834), (174, 0.1274770097112272), (46, 0.12728508808628056), (101, 0.1258345695455401), (131, 0.12409300211411087), (783, 0.12395663870596615), (138, 0.12201689285407895), (1740, 0.12172743714247967), (169, 0.12099945131897298), (94, 0.1206232815378674), (126, 0.11770343106157138), (788, 0.11687701532975672), (33, 0.11471450976786662), (607, 0.11385173731028674), (1553, 0.11215810964003123), (353, 0.1115232548843458), (661, 0.11065857881944831), (1451, 0.10870982119806225), (720, 0.1033478827643609), (1210, 0.10204412272739494), (618, 0.10012194180553571), (1406, 0.09965851374423224), (954, 0.09887364433194201), (800, 0.09601983271530828), (38, 0.09484585661576721), (307, 0.09340379705375973), (122, 0.09304097486328322), (940, 0.09057107286109445), (1368, 0.09038970059858242), (242, 0.08985139643053211), (882, 0.08888718532199613), (39, 0.08820432476224371), (205, 0.08750717730227693), (1282, 0.08739806576632389), (356, 0.08663731967092504), (1956, 0.08661094208172884), (1192, 0.08581197296934588), (14, 0.0853903762308281), (945, 0.08527267341260265), (361, 0.08419838429856244), (1573, 0.08402923134972161), (870, 0.08370873071857063), (1170, 0.08354556948331639), (1135, 0.08297554698970103), (1274, 0.08261632101395648), (2063, 0.0823256403393778), (1015, 0.08225120128387037), (78, 0.08204173901757776), (198, 0.08137148229319288), (401, 0.08046022121365337), (19, 0.08026555578544557), (1864, 0.08014195809018547), (6, 0.0799329184255604), (1710, 0.07982058850979705), (1029, 0.07970094552363173), (232, 0.07845979545254914), (318, 0.07774200020170058), (960, 0.07703329364039856), (2044, 0.07656791500156625), (2066, 0.07656103808994928), (501, 0.0765487128993115), (1780, 0.076479286326636), (396, 0.07589273792361655), (1821, 0.07534383048945953), (763, 0.07494774364780463), (1972, 0.0741572638797663), (1459, 0.07396347668156836), (1180, 0.07379661157599672), (421, 0.07361313906832218), (725, 0.07176379817083671), (1651, 0.07118606033213942), (1428, 0.07118237479241699), (641, 0.07098250585088503), (91, 0.0704780641447449), (1311, 0.07034090831198656), (129, 0.06926328943179531), (885, 0.06925959595017699), (1317, 0.06882546878343351), (1971, 0.0685160325056655), (460, 0.06785406681794448), (185, 0.06769005007851596), (30, 0.06749798453473788), (20, 0.0674137608857277), (674, 0.06734087307923203), (1664, 0.06650402127545182), (10, 0.0665019138996635), (840, 0.06635092627141428), (9, 0.06624654259905201), (1654, 0.06593703806618105), (436, 0.06574544342185264), (2138, 0.06560880016725787), (1365, 0.06502860022180318), (72, 0.06483688340530967), (1128, 0.06437169326687223), (1670, 0.06310077576213413), (1494, 0.06291318118413293), (705, 0.062360344043707036), (332, 0.06211778944360535), (1502, 0.06183219036717015), (278, 0.06182748733054309), (1165, 0.06162026259406241), (166, 0.061515667211093174), (382, 0.06132715991211864), (1753, 0.06122435324038908), (238, 0.061133117134345195), (1277, 0.060847823019098926), (599, 0.0606633224071301), (1230, 0.06057817358164415), (654, 0.06036692352359009), (1874, 0.06025799463496407), (1652, 0.05979162313571459), (95, 0.059112651745433065), (789, 0.05887425673824932), (1720, 0.05856425258714541), (291, 0.058139649046344534), (1916, 0.0576223904506578), (1041, 0.057553243201379015), (1233, 0.057536045510077696), (41, 0.057181454519029215), (805, 0.05689350881586456), (28, 0.05669136498911423), (680, 0.056285969769113556), (1482, 0.056095103408586575), (508, 0.056011839428654106), (2089, 0.05562686145311061), (2127, 0.055216203592106244), (631, 0.055115923456358025), (1703, 0.05491829706908914), (845, 0.054814465750808034), (1200, 0.054446095906235316), (1213, 0.054272446885922775), (1484, 0.05424879085809256), (1978, 0.054152619143614314), (574, 0.05384300347709498), (270, 0.053747878368104685), (43, 0.053264125101631685), (1152, 0.053241597338850866), (675, 0.05295721889050784), (507, 0.05265441884242057), (457, 0.052335589514923814), (1495, 0.05167253382500914), (420, 0.05166749607712609), (330, 0.05140125907033705), (1, 0.05132065057479884), (262, 0.05046788768119839), (664, 0.05013287522646707), (1291, 0.04975819330761278), (329, 0.04974881911084372), (331, 0.049721580841841716), (911, 0.049603274351347114), (833, 0.04936324604107149), (1641, 0.04926100059441886), (54, 0.049116602208380926), (956, 0.048881321364841), (412, 0.0487814663291184), (98, 0.04861341519038926), (1016, 0.04843434023876453), (1604, 0.04751843500384609), (76, 0.047347262493034364), (199, 0.04705051752138629), (728, 0.04681330334329144), (782, 0.046752327658196174), (873, 0.04643048518037767), (1715, 0.04618712745656147), (2039, 0.045727315943905444), (953, 0.045423888646211635), (1967, 0.0452869699265463), (464, 0.04528015216286862), (1650, 0.045242631922387616), (1392, 0.04490315958815692), (726, 0.0448129877493148), (1398, 0.04450651642183928), (546, 0.04421801956385357), (163, 0.044211515715452746), (1480, 0.044034614119308396), (2107, 0.043986220557908656), (977, 0.04378395734110518), (1696, 0.04363501032803243), (2145, 0.04347684778737638), (1086, 0.043438210986091914), (441, 0.04341018299481772), (207, 0.04333297449480572), (324, 0.043198718664277595), (1055, 0.04282593958232925), (1358, 0.04264461233818362), (1899, 0.04260543922578552), (1249, 0.0423459676813726), (1024, 0.04189202009110666), (1396, 0.04169380952882569), (316, 0.041680650177174594), (1272, 0.04164183398786246), (1367, 0.04152016339350611), (483, 0.04138995008371639), (2046, 0.04135247760063167), (929, 0.04121855279992095), (110, 0.04113241908218687), (136, 0.04090964360798216), (178, 0.04046667607786885), (1288, 0.04030906007534591), (2151, 0.04016745001335429), (451, 0.03994815085545023), (1649, 0.03982667032169384), (752, 0.039421231551164705), (536, 0.039397327964374666), (1865, 0.03934538055485994), (2129, 0.03928474299742993), (545, 0.03919071111438324), (309, 0.039106720015190756), (1446, 0.03910097963685166), (446, 0.03893114648402912), (1712, 0.038931043881371225), (18, 0.03881400141452835), (889, 0.03860311312499898), (310, 0.038416866436788245), (761, 0.038351497391546106), (279, 0.03818222295946298), (1039, 0.038154810823127355), (539, 0.03798754704922918), (249, 0.037948261707618725), (1636, 0.03781185923530022), (1155, 0.03768744452054869), (1247, 0.03768129667906168), (256, 0.037244069447467346), (1932, 0.0370106374855654), (2043, 0.03694894046255901), (425, 0.036925696469282177), (1097, 0.03688607176239775), (2060, 0.036768682363867995), (466, 0.03673930091605836), (2028, 0.036431330909425186), (328, 0.03624564728442813), (1297, 0.03623049023109602), (1439, 0.03600250290852927), (2101, 0.03591234591979526), (57, 0.035886362072986074), (1324, 0.035437776322528605), (2114, 0.03541075953003806), (1469, 0.03520972952080091), (855, 0.03519826277007897), (241, 0.03510870980817231), (1456, 0.035015668170392616), (564, 0.035004240026372806), (1990, 0.03499290097273143), (103, 0.034850937128289794), (646, 0.03476849820651448), (1177, 0.03450802360786805), (733, 0.0345049194199591), (370, 0.03438259854736189), (440, 0.034007220877110056), (1052, 0.03400699231133198), (1542, 0.03390371859128849), (1209, 0.03364946435941377), (570, 0.033342908803606595), (1802, 0.033270884296135915), (2007, 0.033060078004230276), (402, 0.03303056777340032), (1782, 0.03286806535134414), (2111, 0.03232261005851927), (56, 0.032279878838931644), (146, 0.03225134366955774), (1250, 0.03222239113570905), (47, 0.03216131683804405), (1986, 0.03189261326498115), (271, 0.03179942449907946), (864, 0.03176912891059985), (1119, 0.03175874298809179), (1005, 0.031663256514544644), (732, 0.03153226719323597), (635, 0.0314798389598101), (128, 0.03136715621705795), (345, 0.03134761594118408), (201, 0.031247533325029046), (459, 0.03111500637995379), (2010, 0.03072776521927093), (111, 0.030711551264502986), (700, 0.030646477228993295), (158, 0.030622103710642855), (102, 0.030542219125996806), (878, 0.030482432153491754), (35, 0.03041721836284323), (1390, 0.030299334878411875), (1925, 0.030284491624845845), (1445, 0.03022600531433045), (127, 0.030144389386539808), (254, 0.030058191813380843), (2093, 0.030015554499902047), (183, 0.029881794293734058), (32, 0.02980038338293992), (322, 0.029763137721615655), (193, 0.029752069261511603), (1237, 0.029745249381116248), (1285, 0.02973907250236798), (83, 0.02972440065379834), (1922, 0.029538978623080504), (668, 0.02950422482664168), (976, 0.029456282097342468), (967, 0.02939541280606224), (393, 0.029381771558653465), (493, 0.02920448798801814), (2075, 0.029111316947532037), (972, 0.02908748888093339), (1518, 0.029071908217971586), (1872, 0.02902069784809727), (1794, 0.028979215829223866), (414, 0.02895595401026972), (211, 0.02894500958990005), (1490, 0.028898628420230468), (1332, 0.028894278465303746), (229, 0.02888926629468061), (1083, 0.028858334613666225), (965, 0.028804945830889904), (1434, 0.028765632443908312), (365, 0.02871599583222741), (108, 0.028699702018441617), (587, 0.028678292822907698), (562, 0.02859780377551885), (755, 0.028594818364494113), (0, 0.028534391229125957), (593, 0.02851346274273361), (775, 0.028512645251001133), (61, 0.02847287939746211), (600, 0.028449892546133657), (260, 0.028376920299773147), (735, 0.028197781156470758), (70, 0.02818330549598759), (797, 0.02816668123823114), (495, 0.028162316582409676), (366, 0.028049594068870337), (311, 0.028003229932145282), (1617, 0.028001202315590078), (1583, 0.027979215791777066), (96, 0.027952774745412707), (685, 0.027929756054233115), (1294, 0.027894883846708095), (2128, 0.027868376108887868), (713, 0.027864540804145604), (1790, 0.027846878472465558), (1819, 0.027826381358170036), (699, 0.027816512132347794), (1440, 0.027771919776808793), (168, 0.02770856675003581), (149, 0.02770470969223777), (36, 0.027682914674470583), (150, 0.027661097756542387), (490, 0.027591324470523794), (1496, 0.027548544009479356), (922, 0.02752088307117244), (1059, 0.02749145894564077), (813, 0.027485084021234563), (2024, 0.027438176440220244), (1880, 0.027427477469051588), (1984, 0.027403586239924324), (59, 0.027226510500520665), (212, 0.027202845440900084), (4, 0.027186506537932205), (1852, 0.0271644253308187), (487, 0.027163559696668692), (1303, 0.027127715109269937), (1034, 0.027077968435054653), (1259, 0.027063553800407522), (1014, 0.027044835699534985), (1093, 0.026925145919447717), (2077, 0.026858437301267947), (123, 0.02681946976994022), (228, 0.026813401014765384), (1596, 0.02679149911406569), (219, 0.026691066165956727), (1687, 0.026638591675314283), (334, 0.02661341556556627), (948, 0.0265828548795604), (125, 0.026558969311997846), (377, 0.02645218267160359), (2034, 0.026369187753794987), (920, 0.026225843324013523), (503, 0.026207914354682803), (27, 0.026159894702632292), (52, 0.02612356222203612), (577, 0.0261102729273402), (1171, 0.026057944724061383), (1387, 0.02599718152525056), (342, 0.025969608641637415), (2103, 0.02594378738070506), (1354, 0.025865330438685184), (1507, 0.025801207850105267), (380, 0.025799756683154505), (1370, 0.025786536837136886), (581, 0.025776395918527345), (1683, 0.025714657888688895), (1335, 0.025603727614185494), (461, 0.025547161337025316), (2047, 0.0255224421330109), (456, 0.025514559227185638), (419, 0.025511638701336388), (1201, 0.025492742761195113), (799, 0.025442722426552957), (1601, 0.02543147156485487), (1001, 0.02542599902098324), (107, 0.025407826034932746), (1079, 0.025350931328643113), (701, 0.025300531458645067), (931, 0.02526332662076637), (225, 0.025230436615042318), (1750, 0.02520837667523145), (200, 0.025156142101944425), (165, 0.025151396763448592), (1827, 0.02504222319011151), (1044, 0.02502642439046301), (67, 0.02501386212326917), (362, 0.02489581879203771), (2112, 0.024894178278136624), (1383, 0.02487918031722572), (1191, 0.024833439560180033), (400, 0.024811325376878975), (601, 0.024581617807406298), (1002, 0.02448823576304088), (1058, 0.024436514225511803), (306, 0.02440528149657471), (319, 0.02438904749100329), (1068, 0.02433367153446878), (1302, 0.02429175864841128), (305, 0.024186294046804436), (196, 0.024109968250376743), (82, 0.024065692373236722), (1092, 0.024058014059806954), (1644, 0.023936396744960516), (1896, 0.023931992240072978), (1377, 0.023798395793991824), (1425, 0.02377548475302156), (1569, 0.023762953740376583), (665, 0.023757076378123028), (609, 0.023725959816161747), (778, 0.023710459421520415), (415, 0.02370646395324482), (838, 0.023656355561268133), (740, 0.023654323516693686), (1232, 0.023641539542321115), (300, 0.023602891354927477), (222, 0.023599561193792175), (475, 0.023573970058009566), (87, 0.023571405968945608), (1345, 0.023566451874566786), (51, 0.023495033418834684), (625, 0.02349395663587965), (1269, 0.023490167753760817), (1701, 0.023486538196282214), (1863, 0.023448675090980024), (1633, 0.023404029780783236), (233, 0.0233959185446128), (476, 0.023392027003431144), (657, 0.023383957987651187), (1589, 0.023347679720985247), (386, 0.0233171256461941), (2002, 0.023303827000251784), (1468, 0.023293281396925998), (1399, 0.02327321638790547), (151, 0.02326202756876263), (480, 0.023253756940421807), (1299, 0.023235583270505233), (313, 0.02320193384802446), (974, 0.023183351443196058), (1547, 0.023160257195716318), (1974, 0.023139736918284522), (266, 0.023136684144123003), (1336, 0.023118729297406694), (462, 0.023103489280436613), (1642, 0.023070945749333698), (1070, 0.023036943882858797), (1826, 0.02298230888549614), (949, 0.02297695260277493), (1968, 0.022950750837603617), (263, 0.02289247951701356), (74, 0.02287562131205752), (97, 0.02286457314202708), (257, 0.02285998040998706), (230, 0.022850960306936882), (335, 0.022800193796324864), (777, 0.022770384308550457), (904, 0.022751736347182243), (1531, 0.022727859529120188), (1344, 0.022719643549521298), (1395, 0.022689989953630564), (939, 0.02267999819328889), (1198, 0.02266595931423234), (426, 0.02265379951208414), (990, 0.02265168756934349), (768, 0.022628953242354935), (780, 0.022591201739601982), (410, 0.022534673051649308), (902, 0.022473624257802496), (358, 0.022468473137130036), (1131, 0.022434661254252752), (1296, 0.022433039308281163), (2026, 0.022392846853653038), (996, 0.022382191908872376), (850, 0.02229027154214501), (1757, 0.0222848286411636), (93, 0.022284369210162143), (1326, 0.02227177572198381), (1184, 0.022233772079427942), (264, 0.022230221325321983), (505, 0.022199946304672324), (1595, 0.02219526886361415), (371, 0.022138326980678396), (510, 0.02206851754705591), (470, 0.02201988330346671), (634, 0.02197713957395007), (1319, 0.021971489592438227), (1328, 0.021928864013262883), (1363, 0.02190946164048002), (220, 0.021692414272933898), (224, 0.02168932892705713), (1159, 0.021607669117127973), (1491, 0.021576327016357824), (658, 0.021566471024927796), (1465, 0.021531084235987843), (275, 0.021390995007835187), (1110, 0.02138245438613464), (376, 0.021343457371581043), (774, 0.021329474824036694), (1588, 0.021262458018455867), (2084, 0.021233817446947183), (2155, 0.021154479442020792), (1539, 0.021153605421749194), (1815, 0.021137437158451698), (1769, 0.021123348845662845), (1028, 0.021110704957339927), (582, 0.02110579523187406), (1271, 0.021083421900160434), (1625, 0.02107317508902932), (1534, 0.021027681426847612), (1639, 0.020903148664138678), (1244, 0.020867989189367362), (223, 0.020854301964940314), (449, 0.020837040097586544), (184, 0.02073903047628159), (1568, 0.020672722064223933), (1217, 0.020665444314989914), (612, 0.020626091572032938), (45, 0.02057257065895101), (706, 0.020526842389382474), (854, 0.020475194999947183), (1472, 0.02044686932549973), (116, 0.020392346099211738), (591, 0.020388043380480416), (542, 0.020344238721779984), (1575, 0.02034040853724987), (1488, 0.02027341417196991), (754, 0.020249673502813127), (711, 0.020070785014196537), (471, 0.02005561514358681), (1270, 0.020019268809147464), (626, 0.019944154520778717), (898, 0.01989701230136908), (1931, 0.01987139968822719), (908, 0.019868219419091792), (900, 0.019803446209376657), (170, 0.019652827303496972), (292, 0.01959577812325998), (1506, 0.019569987200091378), (1535, 0.019525175339774936), (442, 0.019506860115037376), (530, 0.019496211398114593), (1762, 0.01947504128560226), (373, 0.019465942717536565), (1959, 0.019367471089382932), (1765, 0.01923659509396616), (1709, 0.01920396609759493), (389, 0.019102611300965983), (90, 0.019047152029474615), (301, 0.019025954505983156), (1936, 0.01902254247838939), (1422, 0.01900433984788731), (1850, 0.018970473487840152), (81, 0.018888752408999954), (1053, 0.018883436413485236), (1995, 0.018875648802535613), (1452, 0.018862319662718195), (413, 0.018755832226605026), (172, 0.01875436263809679), (2131, 0.018748503049660664), (1337, 0.018704947231843558), (384, 0.018689435514311674), (632, 0.018649758910715013), (1608, 0.018648870699257657), (1902, 0.018605763687364912), (793, 0.01858252300999917), (1133, 0.018536375512039807), (994, 0.01848315318853304), (1735, 0.0183886944722682), (1773, 0.018381563702928597), (1646, 0.01835887423263679), (504, 0.018262683789401286), (541, 0.018261037617175756), (1999, 0.01825714520850426), (1976, 0.0182511931846437), (1517, 0.018081740772468918), (575, 0.01804299198065965), (1238, 0.017999677610348527), (2013, 0.01799124883124634), (286, 0.017977952314498648), (1286, 0.017939614436392144), (734, 0.017892836515425548), (1786, 0.017888919834714953), (1412, 0.017829412437246384), (1938, 0.017770526535506044), (718, 0.01771202069396387), (473, 0.017678373703871875), (422, 0.01767597062742159), (670, 0.017628824526539234), (432, 0.017626448174809174), (2110, 0.017622932162270327), (1419, 0.017573372968949657), (450, 0.017479329411177073), (1275, 0.017447874162459066), (1742, 0.017432609678077297), (1318, 0.017420127717344733), (578, 0.017418285797885073), (350, 0.017410260295299653), (1734, 0.01740897153742933), (1473, 0.01739118651877429), (1352, 0.017381484091322022), (639, 0.01737228003670108), (360, 0.01734651383204622), (560, 0.017314691251048335), (2087, 0.017305571671159717), (716, 0.017284353274408963), (1772, 0.01727140999423667), (53, 0.017241018637348), (771, 0.017239103800328205), (756, 0.017233541691089115), (1611, 0.017127979327057525), (1914, 0.017102830105158996), (1436, 0.0170997436301935), (1919, 0.017094816639455165), (1807, 0.017091083683041318), (1606, 0.017059642755178007), (2076, 0.017054787432167675), (613, 0.017026907395457893), (1222, 0.017020105598405236), (1283, 0.01696335770901133), (770, 0.016961129613435353), (1846, 0.01694498172586432), (1379, 0.016876777915975236), (1600, 0.016845066541223266), (372, 0.016834780934077337), (1918, 0.01683407131670849), (988, 0.01677122476562421), (1157, 0.016741247069292992), (239, 0.016735533946559935), (1415, 0.016721526326957187), (363, 0.016710013639058458), (1841, 0.01670374844379003), (880, 0.016674670332768704), (2015, 0.016639714715403982), (856, 0.016626387546628544), (1554, 0.016587267358058058), (1997, 0.01656989388563177), (1153, 0.01655625025682301), (375, 0.016479830765205587), (1725, 0.016414563941389723), (814, 0.01636329500822608), (1008, 0.016328582773256408), (167, 0.016313917674767177), (1771, 0.016306563314982224), (1607, 0.016212926855639236), (443, 0.016187289481183982), (333, 0.01616889891183557), (549, 0.0161419533160901), (615, 0.01611656294528059), (862, 0.01611572880116186), (2156, 0.016053883050605476), (1643, 0.015982796324603102), (644, 0.015935224211119103), (1467, 0.015886182014825195), (525, 0.015846322999672674), (454, 0.0158307211794398), (2152, 0.015798877369032807), (1530, 0.015710144579039662), (1808, 0.015433755411528124), (2036, 0.015323263523096564), (164, 0.015238218222805544), (895, 0.015228975050753787), (187, 0.015224919960320514), (1085, 0.015159151908769278), (1111, 0.015144181749122205), (1637, 0.015133504323026924), (738, 0.01505237334888347), (2071, 0.014935785559220965), (723, 0.014921891954882728), (1341, 0.014675298707818384), (760, 0.014657496988336844), (1173, 0.014591128628304133), (2037, 0.014543060417935773), (669, 0.014498823283947441), (1985, 0.014464977278037694), (1774, 0.014404900909154276), (1577, 0.014376682792449733), (764, 0.01432661174621851), (1697, 0.014199360692737091), (60, 0.014185819902903804), (1969, 0.01413457124891946), (1847, 0.014132947789522152), (757, 0.014030212369836752), (502, 0.013952888757080374), (2042, 0.013918315716734997), (999, 0.013892988691082568), (1525, 0.01387701674530345), (1529, 0.013683725921439805), (1912, 0.013679915905355606), (729, 0.013593618557754313), (1193, 0.013569765424870397), (673, 0.013543239418456691), (284, 0.013454274191124506), (892, 0.01343440231036697), (1504, 0.013422861682465885), (1305, 0.013409466760162289), (71, 0.013398095772814315), (1823, 0.01337006233768788), (2049, 0.013335703082576466), (1739, 0.013324632444292914), (1050, 0.013278706553597374), (1785, 0.013275748990290766), (1721, 0.013234602803201989), (688, 0.013213206226202496), (811, 0.013207335560481908), (1975, 0.013206536047465536), (1300, 0.013178521613015136), (1090, 0.013150825802573679), (1684, 0.013062676573489038), (2058, 0.013048687606031652), (2102, 0.012918532358647167), (1915, 0.012911280674883046), (1845, 0.012871193218140136), (660, 0.012865316467863708), (1798, 0.012849541152913639), (1057, 0.012809088508389082), (1667, 0.012806078096661745), (1105, 0.01275911369755856), (540, 0.01275052939642374), (652, 0.012582625214329256), (1728, 0.012566707944439587), (1828, 0.012539695335818134), (1369, 0.012479470322829067), (340, 0.012429972488849736), (1657, 0.012388075781734627), (825, 0.012366860188120535), (1992, 0.012349728730734122), (703, 0.012336527556056819), (479, 0.012299649812068497), (1738, 0.012274908478415359), (1474, 0.01221154826831346), (1943, 0.012162495582940448), (92, 0.01193604287048589), (1243, 0.011888187284577042), (1338, 0.011856011645837678), (715, 0.011765156736778469), (346, 0.011715555462616501), (678, 0.011668970680885512), (518, 0.01158668842999951), (1331, 0.011498902957562954), (467, 0.01147271272984873), (773, 0.011467144559514635), (1322, 0.01143986207972649), (809, 0.011386358623974767), (602, 0.011363330427800054), (985, 0.011256199896324686), (213, 0.01120923725668745), (1551, 0.01120202050786751), (2122, 0.011195374263738362), (1067, 0.01116221100983731), (786, 0.011115720637884519), (1764, 0.010998813181016377), (1777, 0.010997262154698666), (274, 0.01098848370095025), (1546, 0.010973850866397383), (851, 0.010958885112803844), (339, 0.010919129873438464), (784, 0.010897954302764593), (1273, 0.010887860261845857), (984, 0.010859772646099337), (215, 0.010829684757999102), (731, 0.01080895464089621), (1256, 0.01080392181239424), (190, 0.010800789473917894), (583, 0.010792788636371101), (2, 0.010764669852304782), (1953, 0.010761450947726108), (157, 0.010748359751470284), (1251, 0.010730143994447758), (1012, 0.010728339785599688), (29, 0.010643620842691751), (347, 0.01061383778210123), (5, 0.010607803360213332), (12, 0.010607562388158454), (2004, 0.010580976137482115), (55, 0.010565722431935981), (1628, 0.010555629405334156), (48, 0.010541623033019202), (596, 0.01052854859991365), (834, 0.010508992856627066), (290, 0.01048954391867339), (1143, 0.01048745782940744), (781, 0.010482958020162936), (1481, 0.01047548119738599), (1073, 0.010445496984966933), (1663, 0.010441347216362905), (523, 0.01043710532968354), (1320, 0.010404045064582177), (104, 0.010390821172622671), (160, 0.010379162527125917), (767, 0.010346298644111424), (1172, 0.010333528191454168), (62, 0.010330087386071966), (645, 0.010292329979130243), (1558, 0.010284404637223205), (1076, 0.010268635311011211), (1586, 0.010233579926883505), (240, 0.010200689626419259), (1089, 0.010185696320742399), (594, 0.010171660357081606), (112, 0.010148932498245378), (544, 0.010145929930465283), (1610, 0.010129376650382507), (277, 0.010083568379382778), (1380, 0.010064961849335946), (424, 0.010043102636212994), (643, 0.010042023187142105), (478, 0.009990484056182754), (17, 0.009990394650295768), (808, 0.009960366475076608), (1615, 0.009951027849881573), (488, 0.009949416948962696), (604, 0.00993196263389329), (933, 0.009927984721983547), (50, 0.009921053388471428), (1234, 0.009917549151844708), (1836, 0.009888784009948097), (486, 0.009885523768747469), (243, 0.009879757198621499), (75, 0.00987022035691655), (208, 0.009869670803414967), (1139, 0.009859793530372217), (88, 0.009858081403763957), (1239, 0.009850508288540782), (1279, 0.009831333431403712), (568, 0.009807239914865942), (1084, 0.009805611660648972), (1939, 0.009797785440954084), (152, 0.009795949534297303), (744, 0.009795792403051864), (1027, 0.009793118857053171), (1266, 0.009784039089063928), (888, 0.009779193324881478), (121, 0.009744468373743098), (69, 0.009744278762195871), (640, 0.009738556211638959), (206, 0.009738471793921564), (472, 0.009707783255557087), (687, 0.00970141396754192), (832, 0.00968262492348123), (304, 0.00966013276509717), (237, 0.009658495531176734), (1713, 0.009648622623784096), (1851, 0.00961039099786105), (1447, 0.009581637652846762), (134, 0.009562420833829667), (1100, 0.009555048925973381), (153, 0.009539351297534204), (676, 0.009512765482653469), (1973, 0.009509992617329915), (383, 0.00949112465848283), (1825, 0.009485746304679629), (1103, 0.009483651462528725), (969, 0.009423461414122064), (216, 0.009423338811355871), (139, 0.009415808084654698), (1854, 0.009412670083598217), (531, 0.009362614954713213), (836, 0.009343237444247431), (2069, 0.009320507145751864), (147, 0.009308966325812455), (1175, 0.009301020770638688), (403, 0.009296697886210691), (610, 0.009265772319727156), (595, 0.009263306377587485), (1361, 0.009240909045589215), (13, 0.009235551239977064), (469, 0.009233302272261462), (535, 0.009229996892227678), (1124, 0.009218357046679233), (2085, 0.009215836610125545), (1858, 0.009209042752842934), (1645, 0.009187578685299949), (1106, 0.009156268986873793), (24, 0.00913035222303476), (1290, 0.009095909068816306), (989, 0.009083567162362166), (259, 0.009070077362056103), (1743, 0.009057279169887529), (1006, 0.009047868918011131), (683, 0.009006411882449692), (1343, 0.008995294555853083), (691, 0.008994697906233095), (11, 0.008994600619948952), (1438, 0.00899390399283119), (312, 0.00899097209804103), (2136, 0.008987433495541269), (491, 0.008977596456788282), (695, 0.008970018807839104), (950, 0.008946226406912935), (1686, 0.008936886720002996), (315, 0.00892808867715857), (186, 0.008927153860802131), (1672, 0.008908364297454233), (1202, 0.008875400031498377), (746, 0.008836188389251475), (1199, 0.008796174793827568), (1892, 0.008737114670672912), (245, 0.008735899356190197), (859, 0.008729722887372608), (379, 0.008728069601851851), (21, 0.008671255597093974), (1907, 0.00866599551004673), (1136, 0.008612221979958997), (831, 0.00857391916942531), (543, 0.0085690533419159), (325, 0.00853929780998493), (267, 0.008465337064160822), (369, 0.008409579498227803), (1298, 0.008392264432867079), (1082, 0.008365109578859952), (84, 0.00833403083021473), (513, 0.00827396637124796), (2057, 0.008273866790171888), (794, 0.008181480849441848), (1077, 0.007997800194425114), (1877, 0.007945129989740316), (1248, 0.007920715666551456), (1404, 0.007826469275251824), (411, 0.00774474925913571), (769, 0.007667718813173446), (627, 0.007567838498349471), (1524, 0.006819915308855757), (1658, 0.00675004941728366), (1306, 0.0067355690391270725), (1580, 0.006680007805649089), (1382, 0.00649319911626354), (842, 0.006466747478740819), (1099, 0.006406948540751277), (791, 0.006371227308269558), (80, 0.006349621143536591), (294, 0.006317995242893549), (189, 0.006300334890539856), (1695, 0.006254379034553875), (142, 0.00622486465638758), (1509, 0.0061986799691607815), (1267, 0.006194139119109035), (698, 0.006159379854208214), (2001, 0.006151917338734352), (848, 0.006114935288223436), (841, 0.0061069641529572505), (40, 0.006105433631688793), (565, 0.006082957448336764), (1962, 0.006077062906322448), (221, 0.006074401225339477), (37, 0.006044830327682718), (1958, 0.0060325763331757565), (106, 0.006005254536618523), (1257, 0.006000235372309442), (181, 0.0059959819871481254), (858, 0.005980939324263728), (748, 0.005979823428052774), (8, 0.005978797182596573), (816, 0.005977097284154313), (143, 0.0059500170959109555), (899, 0.005930153476257617), (569, 0.005925137013777196), (113, 0.0059104126309016914), (942, 0.005896232148158866), (179, 0.005888036606679209), (1602, 0.00588615489189317), (276, 0.005874706784021875), (197, 0.0058611297624987044), (785, 0.005831330497263908), (707, 0.005814787518391774), (1253, 0.005805128872792175), (1682, 0.005788311820100119), (1074, 0.005763061770123483), (1078, 0.005761433215314305), (458, 0.005756667423891098), (704, 0.0057432725449429135), (1426, 0.005742068183474267), (234, 0.005735328366033), (1402, 0.005725644900004534), (750, 0.005713192574084378), (935, 0.005708783711399205), (144, 0.005700028456192444), (302, 0.0056861328966428225), (1460, 0.005643058550413697), (348, 0.005603728817292477), (1287, 0.005596316685674466), (191, 0.005583880306524463), (1587, 0.005580252564185837), (2121, 0.00557448316288418), (202, 0.005565618158831504), (2116, 0.005547652313120052), (1937, 0.005544578982954211), (1797, 0.005544073030613387), (141, 0.005535430085774018), (572, 0.005518341016293436), (15, 0.005516649099676998), (978, 0.005510892127426539), (1375, 0.005503271695266088), (162, 0.005499718905404002), (1080, 0.005489881970856934), (359, 0.005488916608881129), (341, 0.0054884666961079465), (1597, 0.00548292101832865), (1183, 0.0054693684181986646), (381, 0.0054573676204396375), (551, 0.005451984480960695), (66, 0.00545001979420699), (289, 0.00544507824103385), (195, 0.005444922341942588), (175, 0.005441277738248266), (812, 0.005437461475807068), (132, 0.005423851027776937), (349, 0.0054069028803529675), (2003, 0.005388676654721176), (1503, 0.0053764652885362535), (63, 0.005367162965331223), (171, 0.005337818016479915), (352, 0.005325935083340394), (1072, 0.005309620218272819), (1134, 0.005306288694651531), (22, 0.005300230488261847), (1550, 0.00529800856482739), (1263, 0.005289153280584947), (671, 0.005281076941128829), (1822, 0.005267138972696014), (1062, 0.005265418161958527), (117, 0.005256152533857018), (1564, 0.005251992916414598), (235, 0.00524424904479467), (114, 0.005231024820831458), (218, 0.0052300062306788846), (1562, 0.005229925632075692), (1754, 0.0052191220722244995), (1357, 0.0052169097529993595), (2086, 0.005200342896724933), (498, 0.005173868226103965), (874, 0.005173861346061228), (2055, 0.00517268729610977), (721, 0.005166218789476644), (124, 0.005163142690575727), (176, 0.005153266662548292), (534, 0.00510983233385124), (130, 0.005099411842824574), (261, 0.005096796088093528), (58, 0.005094371912763306), (494, 0.005093040736298611), (566, 0.005088641177897458), (336, 0.005086468386218004), (1528, 0.00508600025031452), (3, 0.005072543287007002), (1675, 0.005071322837855807), (1278, 0.005071042124524752), (1479, 0.0050654945652761066), (485, 0.005047233415264355), (592, 0.005038385277069904), (484, 0.0050270633272616804), (374, 0.005022719507722866), (1727, 0.005017188018752858), (617, 0.005012791151955613), (399, 0.005011344706642919), (2029, 0.004997983078095476), (1882, 0.004997133344773035), (1114, 0.004993541960177788), (23, 0.00499194877039573), (437, 0.0049907407362131855), (866, 0.0049786859320195545), (961, 0.004977376404729085), (447, 0.004966981391609751), (1987, 0.004958342124561062), (1897, 0.004934874648730413), (433, 0.004927539992867587), (89, 0.004899736870446571), (1020, 0.0048869114322428915), (1433, 0.004886341845945047), (368, 0.004883332055781476), (1933, 0.0048674160986049994), (1417, 0.004863030751110871), (86, 0.004854506245804599), (901, 0.0048486112833752), (952, 0.004837897251289155), (1920, 0.0048247220032169805), (44, 0.004822713647912427), (934, 0.004814973500914658), (730, 0.0048129541940043616), (428, 0.004810725777154621), (1289, 0.004802607402787141), (1860, 0.0047968277108104964), (2154, 0.004794739342456247), (1733, 0.004786537226729207), (180, 0.004773051326511319), (145, 0.004770653284509561), (512, 0.004770569286680826), (119, 0.004766697614310726), (1342, 0.00476526574687461), (573, 0.004757061705219127), (248, 0.004749866161773026), (1214, 0.004740961378681778), (1505, 0.004737845394315133), (655, 0.004732336054116324), (1894, 0.00471932797193352), (1856, 0.00470974786508472), (1448, 0.004688333730195055), (2097, 0.004671280499199643), (188, 0.004649812223055833), (1118, 0.004649780352432416), (1178, 0.004649428445896766), (297, 0.004648899699698744), (453, 0.004645155920410257), (1954, 0.004630854692893781), (807, 0.004624310690413598), (919, 0.004621877594967516), (1761, 0.004618435798981139), (1144, 0.004618338254382289), (299, 0.004613320422311676), (1680, 0.004612911294053395), (1245, 0.004609527301240695), (296, 0.004607472923036118), (1142, 0.0046066626075086286), (1212, 0.004602420681005895), (140, 0.0045973871770919), (1868, 0.0045888081734662516), (320, 0.004587393356116242), (355, 0.00458535775343805), (65, 0.004584362508638384), (863, 0.004576963048593563), (622, 0.004571038733668378), (1878, 0.004561939879045502), (303, 0.004561171913187144), (1991, 0.004558945471981566), (818, 0.004553433992131511), (804, 0.004549540733882168), (993, 0.0045460188969919085), (762, 0.004545085299400111), (209, 0.004538877751569247), (828, 0.00453694792849306), (1254, 0.004530210785182935), (252, 0.004529955021930784), (547, 0.004526755915868973), (1035, 0.00452532713783121), (702, 0.004524596921221331), (1844, 0.004523987237850428), (553, 0.004517970086157875), (1284, 0.00451508993871575), (394, 0.00451502943204348), (747, 0.004512880000671387), (408, 0.004510541015543352), (1699, 0.004508778081390011), (982, 0.004503702239225141), (659, 0.004496092281544862), (2095, 0.0044931331272200946), (1792, 0.004481249064384816), (204, 0.004481122991526427), (1514, 0.004475668104305959), (1741, 0.004475367570286951), (823, 0.004474574887378239), (1726, 0.004474374859677957), (2064, 0.00446867140448398), (597, 0.004455767490252999), (979, 0.004455082977118266), (1321, 0.004450238713147436), (1515, 0.004449339346873742), (387, 0.004447304788120387), (1510, 0.004443289955385308), (981, 0.004439957340235938), (148, 0.004435821169191467), (236, 0.004433703464475184), (737, 0.004432991604666996), (753, 0.004421798664968431), (1470, 0.0044200110651430105), (589, 0.00441691011067644), (227, 0.004413782951098781), (1158, 0.004404881109150361), (1043, 0.004401013874577035), (653, 0.004383239209020061), (590, 0.004383235033210912), (1432, 0.0043780703941614825), (455, 0.004370989322602169), (210, 0.004363467413632334), (844, 0.0043596313163709365), (1702, 0.004354580890495315), (537, 0.004350138231371778), (1910, 0.004348472028677041), (1500, 0.0043436171318158665), (1339, 0.004332354484656595), (468, 0.004331913024810499), (1783, 0.004325641471084849), (1853, 0.004324944292832311), (1486, 0.004322703459193076), (724, 0.004320707131469851), (790, 0.004308625233899103), (1457, 0.0043035095664492335), (992, 0.004285432052288392), (273, 0.004285379548140499), (99, 0.004284483734617361), (514, 0.004282331332291484), (1000, 0.004272651977884516), (951, 0.004262569538440617), (392, 0.0042561216822200165), (821, 0.004255445924705281), (115, 0.004254858717365747), (217, 0.0042484715067102365), (295, 0.004245818323916752), (500, 0.004239407185943655), (580, 0.0042357913424774535), (2100, 0.0042356819993935296), (893, 0.004228308721923528), (1195, 0.004225365736670881), (677, 0.0042168743284525904), (2050, 0.004213413944281047), (2142, 0.0042001253395327585), (694, 0.004199753432416864), (246, 0.004197161702573826), (1188, 0.004184788317631761), (1334, 0.004183201643855525), (1096, 0.004182662229547147), (1747, 0.004173307728727463), (1592, 0.004152657527202149), (1661, 0.0041459827773323256), (1347, 0.004145687254896636), (1977, 0.004144375017623104), (1137, 0.0041434660155956465), (1635, 0.004141732697121786), (159, 0.0041359887994820675), (741, 0.004127252095423933), (109, 0.004122395927431765), (285, 0.004121094084079948), (1443, 0.0041170720651673215), (739, 0.004116579663355028), (937, 0.0040993983830901765), (571, 0.0040927788405128104), (1669, 0.004092064897877409), (2140, 0.0040808521163628), (1049, 0.004076583266576532), (745, 0.004074847240409235), (1450, 0.0040717977598587855), (2074, 0.0040705337207996226), (1908, 0.004068639680370686), (955, 0.004063319208970939), (621, 0.004057901938040197), (1146, 0.004050974955299388), (930, 0.004050259236521403), (708, 0.004046089410883971), (1101, 0.0040397172441943765), (611, 0.004034341921113891), (1431, 0.004020887228187529), (1653, 0.0040208559648875495), (1671, 0.004014836744121203), (1359, 0.003998166399047657), (1616, 0.003997088551891195), (2054, 0.003996168215375716), (1930, 0.0039935484672367055), (529, 0.003990499260783565), (624, 0.0039882098937208), (1848, 0.003987715617224089), (1104, 0.0039777745821863745), (1453, 0.0039771864520807484), (1513, 0.003964247019005855), (1830, 0.003962304493587184), (561, 0.003939042613607045), (1056, 0.003938023184747672), (963, 0.003937746858161526), (282, 0.003929054602995974), (1950, 0.003924720026991064), (1437, 0.003914706375507348), (914, 0.0039022050010034362), (973, 0.003898237162802272), (1174, 0.0038948824905675784), (1707, 0.003893152733947638), (736, 0.0038893125229420614), (1538, 0.0038869760553397795), (894, 0.0038852057020481636), (308, 0.0038821109059331924), (1310, 0.003878167025471405), (959, 0.0038697069856933257), (1463, 0.0038654756789806978), (1281, 0.003853571374783791), (941, 0.003848611401699165), (1955, 0.0038444589194915803), (586, 0.003842227002816402), (1095, 0.0038350657861791863), (830, 0.0038250253195278713), (1140, 0.003788032827219503), (244, 0.0037833602390613323), (2023, 0.0037754057573928215), (1626, 0.00377097637162165), (556, 0.0037616295672057336), (787, 0.0037507388660700733), (1138, 0.0037425881225644684), (1003, 0.003738610100998893), (253, 0.0037266175741359282), (156, 0.003684958172426311), (344, 0.003659586202478786), (1109, 0.0036443306694777604), (629, 0.003641369011365944), (1795, 0.003617598373374404), (1064, 0.0035311276677655137), (405, 0.0034774858691309484), (1837, 0.003443904722747881), (528, 0.003316254963652852), (579, 0.003310500918085504), (2016, 0.0032942605477335545), (932, 0.00325267507048535), (1817, 0.0032283700769789076), (1304, 0.003048836742314439), (1018, 0.003044613072826716), (337, 0.0030239118074777104), (25, 0.0), (34, 0.0), (42, 0.0), (49, 0.0), (73, 0.0), (77, 0.0), (100, 0.0), (105, 0.0), (118, 0.0), (120, 0.0), (133, 0.0), (135, 0.0), (137, 0.0), (154, 0.0), (155, 0.0), (161, 0.0), (173, 0.0), (177, 0.0), (192, 0.0), (194, 0.0), (214, 0.0), (226, 0.0), (231, 0.0), (247, 0.0), (250, 0.0), (251, 0.0), (255, 0.0), (258, 0.0), (265, 0.0), (268, 0.0), (269, 0.0), (272, 0.0), (280, 0.0), (281, 0.0), (283, 0.0), (287, 0.0), (288, 0.0), (293, 0.0), (298, 0.0), (314, 0.0), (317, 0.0), (321, 0.0), (323, 0.0), (326, 0.0), (327, 0.0), (338, 0.0), (343, 0.0), (351, 0.0), (354, 0.0), (357, 0.0), (364, 0.0), (367, 0.0), (378, 0.0), (385, 0.0), (388, 0.0), (390, 0.0), (391, 0.0), (395, 0.0), (397, 0.0), (398, 0.0), (404, 0.0), (406, 0.0), (407, 0.0), (409, 0.0), (416, 0.0), (417, 0.0), (418, 0.0), (423, 0.0), (427, 0.0), (429, 0.0), (430, 0.0), (431, 0.0), (434, 0.0), (435, 0.0), (438, 0.0), (439, 0.0), (444, 0.0), (445, 0.0), (448, 0.0), (452, 0.0), (463, 0.0), (465, 0.0), (474, 0.0), (477, 0.0), (481, 0.0), (482, 0.0), (489, 0.0), (492, 0.0), (496, 0.0), (497, 0.0), (499, 0.0), (506, 0.0), (509, 0.0), (515, 0.0), (516, 0.0), (517, 0.0), (519, 0.0), (520, 0.0), (521, 0.0), (522, 0.0), (524, 0.0), (526, 0.0), (527, 0.0), (532, 0.0), (533, 0.0), (538, 0.0), (548, 0.0), (550, 0.0), (552, 0.0), (554, 0.0), (555, 0.0), (557, 0.0), (558, 0.0), (559, 0.0), (563, 0.0), (567, 0.0), (576, 0.0), (584, 0.0), (585, 0.0), (588, 0.0), (598, 0.0), (603, 0.0), (605, 0.0), (606, 0.0), (608, 0.0), (614, 0.0), (616, 0.0), (619, 0.0), (620, 0.0), (623, 0.0), (628, 0.0), (630, 0.0), (633, 0.0), (636, 0.0), (637, 0.0), (638, 0.0), (642, 0.0), (647, 0.0), (648, 0.0), (649, 0.0), (650, 0.0), (651, 0.0), (656, 0.0), (662, 0.0), (663, 0.0), (666, 0.0), (667, 0.0), (672, 0.0), (679, 0.0), (681, 0.0), (682, 0.0), (684, 0.0), (686, 0.0), (689, 0.0), (690, 0.0), (692, 0.0), (693, 0.0), (696, 0.0), (697, 0.0), (709, 0.0), (710, 0.0), (712, 0.0), (714, 0.0), (717, 0.0), (719, 0.0), (722, 0.0), (727, 0.0), (742, 0.0), (743, 0.0), (749, 0.0), (751, 0.0), (758, 0.0), (759, 0.0), (765, 0.0), (766, 0.0), (772, 0.0), (776, 0.0), (779, 0.0), (792, 0.0), (795, 0.0), (796, 0.0), (798, 0.0), (801, 0.0), (802, 0.0), (803, 0.0), (806, 0.0), (810, 0.0), (815, 0.0), (817, 0.0), (819, 0.0), (820, 0.0), (822, 0.0), (824, 0.0), (826, 0.0), (827, 0.0), (829, 0.0), (835, 0.0), (837, 0.0), (839, 0.0), (843, 0.0), (846, 0.0), (847, 0.0), (849, 0.0), (852, 0.0), (853, 0.0), (857, 0.0), (860, 0.0), (861, 0.0), (865, 0.0), (867, 0.0), (868, 0.0), (869, 0.0), (871, 0.0), (872, 0.0), (875, 0.0), (876, 0.0), (877, 0.0), (879, 0.0), (881, 0.0), (883, 0.0), (884, 0.0), (886, 0.0), (887, 0.0), (890, 0.0), (891, 0.0), (896, 0.0), (897, 0.0), (903, 0.0), (905, 0.0), (906, 0.0), (907, 0.0), (909, 0.0), (910, 0.0), (912, 0.0), (913, 0.0), (915, 0.0), (916, 0.0), (917, 0.0), (918, 0.0), (921, 0.0), (923, 0.0), (924, 0.0), (925, 0.0), (926, 0.0), (927, 0.0), (928, 0.0), (936, 0.0), (938, 0.0), (943, 0.0), (944, 0.0), (946, 0.0), (947, 0.0), (957, 0.0), (958, 0.0), (962, 0.0), (964, 0.0), (966, 0.0), (968, 0.0), (970, 0.0), (971, 0.0), (975, 0.0), (980, 0.0), (983, 0.0), (986, 0.0), (987, 0.0), (991, 0.0), (995, 0.0), (997, 0.0), (998, 0.0), (1004, 0.0), (1007, 0.0), (1009, 0.0), (1010, 0.0), (1011, 0.0), (1013, 0.0), (1017, 0.0), (1019, 0.0), (1021, 0.0), (1022, 0.0), (1023, 0.0), (1025, 0.0), (1026, 0.0), (1030, 0.0), (1031, 0.0), (1032, 0.0), (1033, 0.0), (1036, 0.0), (1037, 0.0), (1038, 0.0), (1040, 0.0), (1042, 0.0), (1045, 0.0), (1046, 0.0), (1047, 0.0), (1048, 0.0), (1051, 0.0), (1054, 0.0), (1060, 0.0), (1061, 0.0), (1063, 0.0), (1065, 0.0), (1066, 0.0), (1069, 0.0), (1071, 0.0), (1075, 0.0), (1081, 0.0), (1087, 0.0), (1088, 0.0), (1091, 0.0), (1094, 0.0), (1098, 0.0), (1102, 0.0), (1107, 0.0), (1108, 0.0), (1112, 0.0), (1113, 0.0), (1115, 0.0), (1116, 0.0), (1117, 0.0), (1120, 0.0), (1121, 0.0), (1122, 0.0), (1123, 0.0), (1125, 0.0), (1126, 0.0), (1127, 0.0), (1129, 0.0), (1130, 0.0), (1132, 0.0), (1141, 0.0), (1145, 0.0), (1147, 0.0), (1148, 0.0), (1149, 0.0), (1150, 0.0), (1151, 0.0), (1154, 0.0), (1156, 0.0), (1160, 0.0), (1161, 0.0), (1162, 0.0), (1163, 0.0), (1164, 0.0), (1166, 0.0), (1167, 0.0), (1168, 0.0), (1169, 0.0), (1176, 0.0), (1179, 0.0), (1181, 0.0), (1182, 0.0), (1185, 0.0), (1186, 0.0), (1187, 0.0), (1189, 0.0), (1190, 0.0), (1194, 0.0), (1196, 0.0), (1197, 0.0), (1203, 0.0), (1204, 0.0), (1205, 0.0), (1206, 0.0), (1207, 0.0), (1208, 0.0), (1211, 0.0), (1215, 0.0), (1216, 0.0), (1218, 0.0), (1219, 0.0), (1220, 0.0), (1221, 0.0), (1223, 0.0), (1224, 0.0), (1225, 0.0), (1226, 0.0), (1227, 0.0), (1228, 0.0), (1229, 0.0), (1231, 0.0), (1235, 0.0), (1236, 0.0), (1240, 0.0), (1241, 0.0), (1242, 0.0), (1246, 0.0), (1252, 0.0), (1255, 0.0), (1258, 0.0), (1260, 0.0), (1261, 0.0), (1262, 0.0), (1264, 0.0), (1265, 0.0), (1268, 0.0), (1276, 0.0), (1280, 0.0), (1292, 0.0), (1293, 0.0), (1295, 0.0), (1301, 0.0), (1307, 0.0), (1308, 0.0), (1309, 0.0), (1312, 0.0), (1313, 0.0), (1314, 0.0), (1315, 0.0), (1316, 0.0), (1323, 0.0), (1325, 0.0), (1327, 0.0), (1329, 0.0), (1330, 0.0), (1333, 0.0), (1340, 0.0), (1346, 0.0), (1348, 0.0), (1349, 0.0), (1350, 0.0), (1351, 0.0), (1353, 0.0), (1355, 0.0), (1356, 0.0), (1360, 0.0), (1362, 0.0), (1364, 0.0), (1366, 0.0), (1371, 0.0), (1372, 0.0), (1373, 0.0), (1374, 0.0), (1376, 0.0), (1378, 0.0), (1381, 0.0), (1384, 0.0), (1385, 0.0), (1386, 0.0), (1388, 0.0), (1389, 0.0), (1391, 0.0), (1393, 0.0), (1394, 0.0), (1397, 0.0), (1400, 0.0), (1401, 0.0), (1403, 0.0), (1405, 0.0), (1407, 0.0), (1408, 0.0), (1409, 0.0), (1410, 0.0), (1411, 0.0), (1413, 0.0), (1414, 0.0), (1416, 0.0), (1418, 0.0), (1420, 0.0), (1421, 0.0), (1423, 0.0), (1424, 0.0), (1427, 0.0), (1429, 0.0), (1430, 0.0), (1435, 0.0), (1441, 0.0), (1442, 0.0), (1444, 0.0), (1449, 0.0), (1454, 0.0), (1455, 0.0), (1458, 0.0), (1461, 0.0), (1462, 0.0), (1464, 0.0), (1466, 0.0), (1471, 0.0), (1475, 0.0), (1476, 0.0), (1477, 0.0), (1478, 0.0), (1483, 0.0), (1485, 0.0), (1487, 0.0), (1489, 0.0), (1492, 0.0), (1493, 0.0), (1497, 0.0), (1498, 0.0), (1499, 0.0), (1501, 0.0), (1508, 0.0), (1511, 0.0), (1512, 0.0), (1516, 0.0), (1519, 0.0), (1520, 0.0), (1521, 0.0), (1522, 0.0), (1523, 0.0), (1526, 0.0), (1527, 0.0), (1532, 0.0), (1533, 0.0), (1536, 0.0), (1537, 0.0), (1540, 0.0), (1541, 0.0), (1543, 0.0), (1544, 0.0), (1545, 0.0), (1548, 0.0), (1549, 0.0), (1552, 0.0), (1555, 0.0), (1556, 0.0), (1557, 0.0), (1559, 0.0), (1560, 0.0), (1561, 0.0), (1563, 0.0), (1565, 0.0), (1566, 0.0), (1567, 0.0), (1570, 0.0), (1571, 0.0), (1572, 0.0), (1574, 0.0), (1576, 0.0), (1578, 0.0), (1579, 0.0), (1581, 0.0), (1582, 0.0), (1584, 0.0), (1585, 0.0), (1590, 0.0), (1591, 0.0), (1593, 0.0), (1594, 0.0), (1598, 0.0), (1599, 0.0), (1603, 0.0), (1605, 0.0), (1609, 0.0), (1612, 0.0), (1613, 0.0), (1614, 0.0), (1618, 0.0), (1619, 0.0), (1620, 0.0), (1621, 0.0), (1622, 0.0), (1623, 0.0), (1624, 0.0), (1627, 0.0), (1629, 0.0), (1630, 0.0), (1631, 0.0), (1632, 0.0), (1634, 0.0), (1638, 0.0), (1640, 0.0), (1647, 0.0), (1648, 0.0), (1655, 0.0), (1656, 0.0), (1659, 0.0), (1660, 0.0), (1662, 0.0), (1665, 0.0), (1666, 0.0), (1668, 0.0), (1673, 0.0), (1674, 0.0), (1676, 0.0), (1677, 0.0), (1678, 0.0), (1679, 0.0), (1681, 0.0), (1685, 0.0), (1688, 0.0), (1689, 0.0), (1690, 0.0), (1691, 0.0), (1692, 0.0), (1693, 0.0), (1694, 0.0), (1698, 0.0), (1700, 0.0), (1704, 0.0), (1705, 0.0), (1706, 0.0), (1708, 0.0), (1711, 0.0), (1714, 0.0), (1716, 0.0), (1717, 0.0), (1718, 0.0), (1719, 0.0), (1722, 0.0), (1723, 0.0), (1724, 0.0), (1729, 0.0), (1730, 0.0), (1731, 0.0), (1732, 0.0), (1736, 0.0), (1737, 0.0), (1744, 0.0), (1745, 0.0), (1746, 0.0), (1748, 0.0), (1749, 0.0), (1751, 0.0), (1752, 0.0), (1755, 0.0), (1756, 0.0), (1758, 0.0), (1759, 0.0), (1760, 0.0), (1763, 0.0), (1766, 0.0), (1767, 0.0), (1768, 0.0), (1770, 0.0), (1775, 0.0), (1776, 0.0), (1778, 0.0), (1779, 0.0), (1781, 0.0), (1784, 0.0), (1787, 0.0), (1788, 0.0), (1789, 0.0), (1791, 0.0), (1793, 0.0), (1796, 0.0), (1799, 0.0), (1800, 0.0), (1801, 0.0), (1803, 0.0), (1804, 0.0), (1805, 0.0), (1806, 0.0), (1809, 0.0), (1810, 0.0), (1811, 0.0), (1812, 0.0), (1813, 0.0), (1814, 0.0), (1816, 0.0), (1818, 0.0), (1820, 0.0), (1824, 0.0), (1829, 0.0), (1831, 0.0), (1832, 0.0), (1833, 0.0), (1834, 0.0), (1835, 0.0), (1838, 0.0), (1839, 0.0), (1840, 0.0), (1842, 0.0), (1843, 0.0), (1849, 0.0), (1855, 0.0), (1857, 0.0), (1859, 0.0), (1861, 0.0), (1862, 0.0), (1866, 0.0), (1867, 0.0), (1869, 0.0), (1870, 0.0), (1871, 0.0), (1873, 0.0), (1875, 0.0), (1876, 0.0), (1879, 0.0), (1881, 0.0), (1883, 0.0), (1884, 0.0), (1885, 0.0), (1886, 0.0), (1887, 0.0), (1888, 0.0), (1889, 0.0), (1890, 0.0), (1891, 0.0), (1893, 0.0), (1895, 0.0), (1898, 0.0), (1900, 0.0), (1901, 0.0), (1903, 0.0), (1904, 0.0), (1905, 0.0), (1906, 0.0), (1909, 0.0), (1911, 0.0), (1913, 0.0), (1917, 0.0), (1921, 0.0), (1923, 0.0), (1924, 0.0), (1926, 0.0), (1927, 0.0), (1928, 0.0), (1929, 0.0), (1934, 0.0), (1935, 0.0), (1940, 0.0), (1941, 0.0), (1942, 0.0), (1944, 0.0), (1945, 0.0), (1946, 0.0), (1947, 0.0), (1948, 0.0), (1949, 0.0), (1951, 0.0), (1952, 0.0), (1957, 0.0), (1960, 0.0), (1961, 0.0), (1963, 0.0), (1964, 0.0), (1965, 0.0), (1966, 0.0), (1970, 0.0), (1979, 0.0), (1980, 0.0), (1981, 0.0), (1982, 0.0), (1983, 0.0), (1988, 0.0), (1989, 0.0), (1993, 0.0), (1994, 0.0), (1996, 0.0), (1998, 0.0), (2000, 0.0), (2005, 0.0), (2006, 0.0), (2008, 0.0), (2009, 0.0), (2011, 0.0), (2012, 0.0), (2014, 0.0), (2017, 0.0), (2018, 0.0), (2019, 0.0), (2020, 0.0), (2021, 0.0), (2022, 0.0), (2025, 0.0), (2027, 0.0), (2030, 0.0), (2031, 0.0), (2032, 0.0), (2033, 0.0), (2035, 0.0), (2038, 0.0), (2040, 0.0), (2041, 0.0), (2045, 0.0), (2048, 0.0), (2051, 0.0), (2052, 0.0), (2053, 0.0), (2056, 0.0), (2059, 0.0), (2061, 0.0), (2062, 0.0), (2065, 0.0), (2067, 0.0), (2068, 0.0), (2070, 0.0), (2072, 0.0), (2073, 0.0), (2078, 0.0), (2079, 0.0), (2080, 0.0), (2081, 0.0), (2082, 0.0), (2083, 0.0), (2088, 0.0), (2090, 0.0), (2091, 0.0), (2092, 0.0), (2094, 0.0), (2096, 0.0), (2098, 0.0), (2099, 0.0), (2104, 0.0), (2105, 0.0), (2106, 0.0), (2108, 0.0), (2109, 0.0), (2113, 0.0), (2115, 0.0), (2117, 0.0), (2118, 0.0), (2119, 0.0), (2120, 0.0), (2123, 0.0), (2124, 0.0), (2125, 0.0), (2126, 0.0), (2130, 0.0), (2132, 0.0), (2133, 0.0), (2134, 0.0), (2135, 0.0), (2137, 0.0), (2139, 0.0), (2141, 0.0), (2143, 0.0), (2144, 0.0), (2146, 0.0), (2147, 0.0), (2148, 0.0), (2149, 0.0), (2150, 0.0), (2153, 0.0)]\n"
          ]
        }
      ]
    },
    {
      "cell_type": "code",
      "source": [
        "# print the name of similar movies based on the index\n",
        "\n",
        "print(\"Suggested movies for you: \\n\")\n",
        "\n",
        "i = 1\n",
        "for movie in sorted_similarity_movies:\n",
        "  index=movie[0]\n",
        "  title_from_index = movies_data[movies_data.index == index][\"title\"].values[0]\n",
        "  if i<31:\n",
        "    print(f\"{i}.) {title_from_index}\")\n",
        "    i+=1"
      ],
      "metadata": {
        "id": "H6QTHurTvmEP",
        "colab": {
          "base_uri": "https://localhost:8080/"
        },
        "outputId": "d0c72eaa-bb1c-4c99-bdd6-ce107a4f9586"
      },
      "execution_count": null,
      "outputs": [
        {
          "output_type": "stream",
          "name": "stdout",
          "text": [
            "Suggested movies for you: \n",
            "\n",
            "1.) Iron Man\n",
            "2.) Iron Man 2\n",
            "3.) Iron Man 3\n",
            "4.) Avengers: Age of Ultron\n",
            "5.) The Avengers\n",
            "6.) Captain America: Civil War\n",
            "7.) Captain America: The Winter Soldier\n",
            "8.) Ant-Man\n",
            "9.) X-Men\n",
            "10.) X-Men: Apocalypse\n",
            "11.) X2\n",
            "12.) The Incredible Hulk\n",
            "13.) X-Men: Days of Future Past\n",
            "14.) X-Men: First Class\n",
            "15.) G-Force\n",
            "16.) Mortdecai\n",
            "17.) The Last Airbender\n",
            "18.) Kick-Ass 2\n",
            "19.) Captain America: The First Avenger\n",
            "20.) Guardians of the Galaxy\n",
            "21.) Thor: The Dark World\n",
            "22.) Deadpool\n",
            "23.) X-Men: The Last Stand\n",
            "24.) Sky Captain and the World of Tomorrow\n",
            "25.) Se7en\n",
            "26.) Tropic Thunder\n",
            "27.) Zathura: A Space Adventure\n",
            "28.) Zoom\n",
            "29.) Contagion\n",
            "30.) Gothika\n"
          ]
        }
      ]
    },
    {
      "cell_type": "code",
      "source": [
        "#movies recommendation system\n",
        "movie_name = input(\"Enter the name of a movie you like: \")\n",
        "\n",
        "list_all_titles = movies_data[\"title\"].tolist()\n",
        "\n",
        "similar_movies = difflib.get_close_matches(movie_name, list_all_titles)\n",
        "\n",
        "close_match = similar_movies[0]\n",
        "\n",
        "index_from_title = movies_data[movies_data.title == close_match][\"index\"].values[0]\n",
        "\n",
        "similarity_scores = list(enumerate(similarity[index_from_title]))\n",
        "\n",
        "sorted_similarity_movies = sorted(similarity_scores, key = lambda x:x[1], reverse = True)\n",
        "\n",
        "print(\"Movies suggested for you:\\n \")\n",
        "\n",
        "i = 1\n",
        "for movie in sorted_similarity_movies:\n",
        "  index = movie[0]\n",
        "  title_from_index = movies_data[movies_data.index == index][\"title\"].values[0]\n",
        "  if i<=30:\n",
        "    print(f\"{i}.) {title_from_index}\")\n",
        "    i += 1\n"
      ],
      "metadata": {
        "colab": {
          "base_uri": "https://localhost:8080/"
        },
        "id": "QifFJzOdxJFv",
        "outputId": "b141d135-ea83-4261-eff4-1d0302b113d0"
      },
      "execution_count": null,
      "outputs": [
        {
          "output_type": "stream",
          "name": "stdout",
          "text": [
            "Enter the name of a movie you like: Batman Begins\n",
            "Movies suggested for you:\n",
            " \n",
            "1.) Batman Begins\n",
            "2.) The Dark Knight Rises\n",
            "3.) The Dark Knight\n",
            "4.) The Prestige\n",
            "5.) Batman Returns\n",
            "6.) Batman\n",
            "7.) Batman & Robin\n",
            "8.) Superman\n",
            "9.) Kick-Ass 2\n",
            "10.) Kick-Ass\n",
            "11.) Mad Money\n",
            "12.) Quest for Camelot\n",
            "13.) Kung Fu Panda 2\n",
            "14.) TMNT\n",
            "15.) Interstellar\n",
            "16.) GoldenEye\n",
            "17.) Wonder Boys\n",
            "18.) Suicide Squad\n",
            "19.) Watchmen\n",
            "20.) Taken\n",
            "21.) Superman II\n",
            "22.) Superman III\n",
            "23.) Captain Corelli's Mandolin\n",
            "24.) Jack and Jill\n",
            "25.) Insomnia\n",
            "26.) Abandon\n",
            "27.) The Girl with the Dragon Tattoo\n",
            "28.) Charlie's Angels\n",
            "29.) Inception\n",
            "30.) Batman Forever\n"
          ]
        }
      ]
    },
    {
      "cell_type": "code",
      "source": [],
      "metadata": {
        "id": "1-No4t4G2W5S"
      },
      "execution_count": null,
      "outputs": []
    }
  ]
}