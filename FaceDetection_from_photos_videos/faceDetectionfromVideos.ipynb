{
  "nbformat": 4,
  "nbformat_minor": 0,
  "metadata": {
    "colab": {
      "provenance": []
    },
    "kernelspec": {
      "name": "python3",
      "display_name": "Python 3"
    },
    "language_info": {
      "name": "python"
    }
  },
  "cells": [
    {
      "cell_type": "code",
      "execution_count": null,
      "metadata": {
        "id": "-78bpBjhQKFC"
      },
      "outputs": [],
      "source": [
        "import cv2\n",
        "import matplotlib.pyplot as plt"
      ]
    },
    {
      "cell_type": "code",
      "source": [
        "face_cascade = cv2.CascadeClassifier('/content/haarcascade_frontalcatface.xml')"
      ],
      "metadata": {
        "id": "4mHmWcY7QP1E"
      },
      "execution_count": null,
      "outputs": []
    },
    {
      "cell_type": "code",
      "source": [
        "video = cv2.VideoCapture('/content/patan_video.mp4')"
      ],
      "metadata": {
        "id": "CqtUqhgHQaKs"
      },
      "execution_count": null,
      "outputs": []
    },
    {
      "cell_type": "code",
      "source": [
        "while video.isOpened():\n",
        "  #Read a frame from the video\n",
        "  ret, frame = video.read()\n",
        "  if not ret:\n",
        "        break\n",
        "\n",
        "  #Convert frame to grayscale\n",
        "  gray = cv2.cvtColor(frame, cv2.COLOR_BGR2GRAY)"
      ],
      "metadata": {
        "id": "fFGph6ERQhg9"
      },
      "execution_count": null,
      "outputs": []
    },
    {
      "cell_type": "markdown",
      "source": [],
      "metadata": {
        "id": "jRc-9utrS8cl"
      }
    },
    {
      "cell_type": "code",
      "source": [
        "faces = face_cascade.detectMultiScale(gray, scaleFactor=1.1, minNeighbors=5, minSize=(30, 30))"
      ],
      "metadata": {
        "id": "OlqPkC8URyeu"
      },
      "execution_count": null,
      "outputs": []
    },
    {
      "cell_type": "code",
      "source": [
        "\n",
        "for(x, y, w, h) in faces:\n",
        "  cv2.rectangle(frame, (x, y), (x+w, y+h), (0, 255, 0), 2)"
      ],
      "metadata": {
        "id": "tD9WjQSISt-T"
      },
      "execution_count": null,
      "outputs": []
    },
    {
      "cell_type": "code",
      "source": [
        "print(\"ret:\", ret)\n"
      ],
      "metadata": {
        "colab": {
          "base_uri": "https://localhost:8080/"
        },
        "id": "VZfb_m7bU20C",
        "outputId": "7677142b-d603-43fa-b8e9-3bfb70dae0b9"
      },
      "execution_count": null,
      "outputs": [
        {
          "output_type": "stream",
          "name": "stdout",
          "text": [
            "ret: False\n"
          ]
        }
      ]
    },
    {
      "cell_type": "code",
      "source": [
        "rgb_frame = cv2.cvtColor(frame, cv2.COLOR_BGR2RGB)\n",
        "plt.imshow(rgb_frame)\n",
        "plt.axis('off')\n",
        "plt.show()\n"
      ],
      "metadata": {
        "id": "0yMyMT-XXJx8"
      },
      "execution_count": null,
      "outputs": []
    }
  ]
}